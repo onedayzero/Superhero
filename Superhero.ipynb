{
 "cells": [
  {
   "cell_type": "markdown",
   "id": "3e969b5c",
   "metadata": {},
   "source": [
    "# Superhero"
   ]
  },
  {
   "cell_type": "markdown",
   "id": "1f5b15d1",
   "metadata": {},
   "source": [
    "- Clint Atterberry\n",
    "- 8/29/22"
   ]
  },
  {
   "cell_type": "markdown",
   "id": "8a255f49",
   "metadata": {},
   "source": [
    "## Project Information"
   ]
  },
  {
   "cell_type": "markdown",
   "id": "369bba40",
   "metadata": {},
   "source": [
    "The Task\n",
    "Your task is two-fold:\n",
    "\n",
    "I. Clean the files and combine them into one final DataFrame.\n",
    "\n",
    "    - This dataframe should have the following columns:\n",
    "        - Hero (Just the name of the Hero)\n",
    "        - Publisher\n",
    "        - Gender\n",
    "        - Eye color\n",
    "        - Race\n",
    "        - Hair color\n",
    "        - Height (numeric)\n",
    "        - Skin color\n",
    "        - Alignment\n",
    "        - Weight (numeric)\n",
    "        - Plus, one-hot-encoded columns for every power that - appears in the dataset. E.g.:\n",
    "            - Agility\n",
    "            - Flight\n",
    "            - Superspeed\n",
    "            - etc.\n",
    "Hint: There is a space in \"100 kg\" or \"52.5 cm\"\n",
    "\n",
    "\n",
    "\n",
    "II. Use your combined DataFrame to answer the following questions.\n",
    "\n",
    "1. Compare the average weight of super powers who have Super Speed to those who do not.\n",
    "2. What is the average height of heroes for each publisher?"
   ]
  },
  {
   "cell_type": "markdown",
   "id": "8f29f5ad",
   "metadata": {},
   "source": [
    "# Setup"
   ]
  },
  {
   "cell_type": "markdown",
   "id": "4b86493a",
   "metadata": {},
   "source": [
    "## Import"
   ]
  },
  {
   "cell_type": "code",
   "execution_count": 1,
   "id": "8d6578d5",
   "metadata": {},
   "outputs": [],
   "source": [
    "# Standard Imports\n",
    "import numpy as np\n",
    "import pandas as pd\n",
    "import matplotlib.pyplot as plt\n",
    "import seaborn as sns\n",
    "\n",
    "# Importing the OS and JSON Modules\n",
    "import os,json"
   ]
  },
  {
   "cell_type": "markdown",
   "id": "4bf4267b",
   "metadata": {},
   "source": [
    "## Load Data"
   ]
  },
  {
   "cell_type": "code",
   "execution_count": 2,
   "id": "fc3f0c23",
   "metadata": {},
   "outputs": [],
   "source": [
    "super_info = 'https://docs.google.com/spreadsheets/d/e/2PACX-1vQqIOAkjE3NPqH3fN5qdMIyEMIAbBXMyHHYgjEdDfgttcU0dbl8dCAHze2iestVkaSbRKSXS3YpkbFT/pub?output=csv'\n",
    "super_powers = 'https://docs.google.com/spreadsheets/d/e/2PACX-1vSZeRKvu4AbsTWiYbk3mHKTOjAHlIlyCKOcpliC39eCELYeLOgKMmDN2AdEohkxEWNCvvrPiJ26Acop/pub?output=csv'\n",
    "super_info_df = pd.read_csv(super_info)\n",
    "super_powers_df = pd.read_csv(super_powers)"
   ]
  },
  {
   "cell_type": "markdown",
   "id": "ef9cbbd5",
   "metadata": {},
   "source": [
    "## Explore Data"
   ]
  },
  {
   "cell_type": "code",
   "execution_count": 3,
   "id": "14c69948",
   "metadata": {},
   "outputs": [
    {
     "data": {
      "text/html": [
       "<div>\n",
       "<style scoped>\n",
       "    .dataframe tbody tr th:only-of-type {\n",
       "        vertical-align: middle;\n",
       "    }\n",
       "\n",
       "    .dataframe tbody tr th {\n",
       "        vertical-align: top;\n",
       "    }\n",
       "\n",
       "    .dataframe thead th {\n",
       "        text-align: right;\n",
       "    }\n",
       "</style>\n",
       "<table border=\"1\" class=\"dataframe\">\n",
       "  <thead>\n",
       "    <tr style=\"text-align: right;\">\n",
       "      <th></th>\n",
       "      <th>Hero|Publisher</th>\n",
       "      <th>Gender</th>\n",
       "      <th>Race</th>\n",
       "      <th>Alignment</th>\n",
       "      <th>Hair color</th>\n",
       "      <th>Eye color</th>\n",
       "      <th>Skin color</th>\n",
       "      <th>Measurements</th>\n",
       "    </tr>\n",
       "  </thead>\n",
       "  <tbody>\n",
       "    <tr>\n",
       "      <th>0</th>\n",
       "      <td>A-Bomb|Marvel Comics</td>\n",
       "      <td>Male</td>\n",
       "      <td>Human</td>\n",
       "      <td>good</td>\n",
       "      <td>No Hair</td>\n",
       "      <td>yellow</td>\n",
       "      <td>Unknown</td>\n",
       "      <td>{'Height': '203.0 cm', 'Weight': '441.0 kg'}</td>\n",
       "    </tr>\n",
       "    <tr>\n",
       "      <th>1</th>\n",
       "      <td>Abe Sapien|Dark Horse Comics</td>\n",
       "      <td>Male</td>\n",
       "      <td>Icthyo Sapien</td>\n",
       "      <td>good</td>\n",
       "      <td>No Hair</td>\n",
       "      <td>blue</td>\n",
       "      <td>blue</td>\n",
       "      <td>{'Height': '191.0 cm', 'Weight': '65.0 kg'}</td>\n",
       "    </tr>\n",
       "    <tr>\n",
       "      <th>2</th>\n",
       "      <td>Abin Sur|DC Comics</td>\n",
       "      <td>Male</td>\n",
       "      <td>Ungaran</td>\n",
       "      <td>good</td>\n",
       "      <td>No Hair</td>\n",
       "      <td>blue</td>\n",
       "      <td>red</td>\n",
       "      <td>{'Height': '185.0 cm', 'Weight': '90.0 kg'}</td>\n",
       "    </tr>\n",
       "  </tbody>\n",
       "</table>\n",
       "</div>"
      ],
      "text/plain": [
       "                 Hero|Publisher Gender           Race Alignment Hair color  \\\n",
       "0          A-Bomb|Marvel Comics   Male          Human      good    No Hair   \n",
       "1  Abe Sapien|Dark Horse Comics   Male  Icthyo Sapien      good    No Hair   \n",
       "2            Abin Sur|DC Comics   Male        Ungaran      good    No Hair   \n",
       "\n",
       "  Eye color Skin color                                  Measurements  \n",
       "0    yellow    Unknown  {'Height': '203.0 cm', 'Weight': '441.0 kg'}  \n",
       "1      blue       blue   {'Height': '191.0 cm', 'Weight': '65.0 kg'}  \n",
       "2      blue        red   {'Height': '185.0 cm', 'Weight': '90.0 kg'}  "
      ]
     },
     "execution_count": 3,
     "metadata": {},
     "output_type": "execute_result"
    }
   ],
   "source": [
    "# looking at the first 3 rows of data\n",
    "super_info_df.head(3)"
   ]
  },
  {
   "cell_type": "code",
   "execution_count": 4,
   "id": "7a846a95",
   "metadata": {},
   "outputs": [
    {
     "data": {
      "text/html": [
       "<div>\n",
       "<style scoped>\n",
       "    .dataframe tbody tr th:only-of-type {\n",
       "        vertical-align: middle;\n",
       "    }\n",
       "\n",
       "    .dataframe tbody tr th {\n",
       "        vertical-align: top;\n",
       "    }\n",
       "\n",
       "    .dataframe thead th {\n",
       "        text-align: right;\n",
       "    }\n",
       "</style>\n",
       "<table border=\"1\" class=\"dataframe\">\n",
       "  <thead>\n",
       "    <tr style=\"text-align: right;\">\n",
       "      <th></th>\n",
       "      <th>hero_names</th>\n",
       "      <th>Powers</th>\n",
       "    </tr>\n",
       "  </thead>\n",
       "  <tbody>\n",
       "    <tr>\n",
       "      <th>0</th>\n",
       "      <td>3-D Man</td>\n",
       "      <td>Agility,Super Strength,Stamina,Super Speed</td>\n",
       "    </tr>\n",
       "    <tr>\n",
       "      <th>1</th>\n",
       "      <td>A-Bomb</td>\n",
       "      <td>Accelerated Healing,Durability,Longevity,Super...</td>\n",
       "    </tr>\n",
       "    <tr>\n",
       "      <th>2</th>\n",
       "      <td>Abe Sapien</td>\n",
       "      <td>Agility,Accelerated Healing,Cold Resistance,Du...</td>\n",
       "    </tr>\n",
       "  </tbody>\n",
       "</table>\n",
       "</div>"
      ],
      "text/plain": [
       "   hero_names                                             Powers\n",
       "0     3-D Man         Agility,Super Strength,Stamina,Super Speed\n",
       "1      A-Bomb  Accelerated Healing,Durability,Longevity,Super...\n",
       "2  Abe Sapien  Agility,Accelerated Healing,Cold Resistance,Du..."
      ]
     },
     "execution_count": 4,
     "metadata": {},
     "output_type": "execute_result"
    }
   ],
   "source": [
    "# looking at the first 3 rows of data\n",
    "super_powers_df.head(3)"
   ]
  },
  {
   "cell_type": "code",
   "execution_count": 5,
   "id": "88906d81",
   "metadata": {},
   "outputs": [
    {
     "name": "stdout",
     "output_type": "stream",
     "text": [
      "<class 'pandas.core.frame.DataFrame'>\n",
      "RangeIndex: 463 entries, 0 to 462\n",
      "Data columns (total 8 columns):\n",
      " #   Column          Non-Null Count  Dtype \n",
      "---  ------          --------------  ----- \n",
      " 0   Hero|Publisher  463 non-null    object\n",
      " 1   Gender          463 non-null    object\n",
      " 2   Race            463 non-null    object\n",
      " 3   Alignment       463 non-null    object\n",
      " 4   Hair color      463 non-null    object\n",
      " 5   Eye color       463 non-null    object\n",
      " 6   Skin color      463 non-null    object\n",
      " 7   Measurements    463 non-null    object\n",
      "dtypes: object(8)\n",
      "memory usage: 29.1+ KB\n"
     ]
    }
   ],
   "source": [
    "# explore super_info\n",
    "super_info_df.info()"
   ]
  },
  {
   "cell_type": "markdown",
   "id": "df48595e",
   "metadata": {},
   "source": [
    "- 8 columns\n",
    "- 463 rows\n",
    "- Appears to have no missing data in the columns\n",
    "- All columns are objects\n",
    "- Measurements column will need to be numeric and separated into 2 columns, height and weight\n",
    "- Hero and Publisher will need to be separated into 2 columns"
   ]
  },
  {
   "cell_type": "code",
   "execution_count": 6,
   "id": "767c2c82",
   "metadata": {},
   "outputs": [
    {
     "name": "stdout",
     "output_type": "stream",
     "text": [
      "<class 'pandas.core.frame.DataFrame'>\n",
      "RangeIndex: 667 entries, 0 to 666\n",
      "Data columns (total 2 columns):\n",
      " #   Column      Non-Null Count  Dtype \n",
      "---  ------      --------------  ----- \n",
      " 0   hero_names  667 non-null    object\n",
      " 1   Powers      667 non-null    object\n",
      "dtypes: object(2)\n",
      "memory usage: 10.5+ KB\n"
     ]
    }
   ],
   "source": [
    "# explore super_powers\n",
    "super_powers_df.info()"
   ]
  },
  {
   "cell_type": "markdown",
   "id": "3ec9f766",
   "metadata": {},
   "source": [
    "- 2 columns\n",
    "- 667 rows\n",
    "- Appears to have no missing data in the columns\n",
    "- Both columns are objects\n",
    "- Powers will need to be one-hot-encoded to different columns"
   ]
  },
  {
   "cell_type": "markdown",
   "id": "42447c81",
   "metadata": {},
   "source": [
    "# Prepare Data (super_info_df)"
   ]
  },
  {
   "cell_type": "markdown",
   "id": "d0d5f8b0",
   "metadata": {},
   "source": [
    "## Separate Hero and Publisher"
   ]
  },
  {
   "cell_type": "code",
   "execution_count": 7,
   "id": "07815f3c",
   "metadata": {},
   "outputs": [
    {
     "data": {
      "text/plain": [
       "0            A-Bomb|Marvel Comics\n",
       "1    Abe Sapien|Dark Horse Comics\n",
       "Name: Hero|Publisher, dtype: object"
      ]
     },
     "execution_count": 7,
     "metadata": {},
     "output_type": "execute_result"
    }
   ],
   "source": [
    "# Exploring existing format with a few examples\n",
    "super_info_df['Hero|Publisher'].head(2)"
   ]
  },
  {
   "cell_type": "markdown",
   "id": "3050d77e",
   "metadata": {},
   "source": [
    "The '|' separates the two columns."
   ]
  },
  {
   "cell_type": "code",
   "execution_count": 8,
   "id": "5ffa3f2e",
   "metadata": {},
   "outputs": [
    {
     "data": {
      "text/html": [
       "<div>\n",
       "<style scoped>\n",
       "    .dataframe tbody tr th:only-of-type {\n",
       "        vertical-align: middle;\n",
       "    }\n",
       "\n",
       "    .dataframe tbody tr th {\n",
       "        vertical-align: top;\n",
       "    }\n",
       "\n",
       "    .dataframe thead th {\n",
       "        text-align: right;\n",
       "    }\n",
       "</style>\n",
       "<table border=\"1\" class=\"dataframe\">\n",
       "  <thead>\n",
       "    <tr style=\"text-align: right;\">\n",
       "      <th></th>\n",
       "      <th>Hero|Publisher</th>\n",
       "      <th>Gender</th>\n",
       "      <th>Race</th>\n",
       "      <th>Alignment</th>\n",
       "      <th>Hair color</th>\n",
       "      <th>Eye color</th>\n",
       "      <th>Skin color</th>\n",
       "      <th>Measurements</th>\n",
       "      <th>Hero</th>\n",
       "      <th>Publisher</th>\n",
       "    </tr>\n",
       "  </thead>\n",
       "  <tbody>\n",
       "    <tr>\n",
       "      <th>0</th>\n",
       "      <td>A-Bomb|Marvel Comics</td>\n",
       "      <td>Male</td>\n",
       "      <td>Human</td>\n",
       "      <td>good</td>\n",
       "      <td>No Hair</td>\n",
       "      <td>yellow</td>\n",
       "      <td>Unknown</td>\n",
       "      <td>{'Height': '203.0 cm', 'Weight': '441.0 kg'}</td>\n",
       "      <td>A-Bomb</td>\n",
       "      <td>Marvel Comics</td>\n",
       "    </tr>\n",
       "    <tr>\n",
       "      <th>1</th>\n",
       "      <td>Abe Sapien|Dark Horse Comics</td>\n",
       "      <td>Male</td>\n",
       "      <td>Icthyo Sapien</td>\n",
       "      <td>good</td>\n",
       "      <td>No Hair</td>\n",
       "      <td>blue</td>\n",
       "      <td>blue</td>\n",
       "      <td>{'Height': '191.0 cm', 'Weight': '65.0 kg'}</td>\n",
       "      <td>Abe Sapien</td>\n",
       "      <td>Dark Horse Comics</td>\n",
       "    </tr>\n",
       "  </tbody>\n",
       "</table>\n",
       "</div>"
      ],
      "text/plain": [
       "                 Hero|Publisher Gender           Race Alignment Hair color  \\\n",
       "0          A-Bomb|Marvel Comics   Male          Human      good    No Hair   \n",
       "1  Abe Sapien|Dark Horse Comics   Male  Icthyo Sapien      good    No Hair   \n",
       "\n",
       "  Eye color Skin color                                  Measurements  \\\n",
       "0    yellow    Unknown  {'Height': '203.0 cm', 'Weight': '441.0 kg'}   \n",
       "1      blue       blue   {'Height': '191.0 cm', 'Weight': '65.0 kg'}   \n",
       "\n",
       "         Hero          Publisher  \n",
       "0      A-Bomb      Marvel Comics  \n",
       "1  Abe Sapien  Dark Horse Comics  "
      ]
     },
     "execution_count": 8,
     "metadata": {},
     "output_type": "execute_result"
    }
   ],
   "source": [
    "## adding expand=True to create the 2 columns\n",
    "super_info_df[['Hero','Publisher']] = super_info_df['Hero|Publisher'].str.split('|',expand=True)\n",
    "super_info_df.head(2)"
   ]
  },
  {
   "cell_type": "code",
   "execution_count": 9,
   "id": "0fe89644",
   "metadata": {},
   "outputs": [
    {
     "data": {
      "text/html": [
       "<div>\n",
       "<style scoped>\n",
       "    .dataframe tbody tr th:only-of-type {\n",
       "        vertical-align: middle;\n",
       "    }\n",
       "\n",
       "    .dataframe tbody tr th {\n",
       "        vertical-align: top;\n",
       "    }\n",
       "\n",
       "    .dataframe thead th {\n",
       "        text-align: right;\n",
       "    }\n",
       "</style>\n",
       "<table border=\"1\" class=\"dataframe\">\n",
       "  <thead>\n",
       "    <tr style=\"text-align: right;\">\n",
       "      <th></th>\n",
       "      <th>Gender</th>\n",
       "      <th>Race</th>\n",
       "      <th>Alignment</th>\n",
       "      <th>Hair color</th>\n",
       "      <th>Eye color</th>\n",
       "      <th>Skin color</th>\n",
       "      <th>Measurements</th>\n",
       "      <th>Hero</th>\n",
       "      <th>Publisher</th>\n",
       "    </tr>\n",
       "  </thead>\n",
       "  <tbody>\n",
       "    <tr>\n",
       "      <th>0</th>\n",
       "      <td>Male</td>\n",
       "      <td>Human</td>\n",
       "      <td>good</td>\n",
       "      <td>No Hair</td>\n",
       "      <td>yellow</td>\n",
       "      <td>Unknown</td>\n",
       "      <td>{'Height': '203.0 cm', 'Weight': '441.0 kg'}</td>\n",
       "      <td>A-Bomb</td>\n",
       "      <td>Marvel Comics</td>\n",
       "    </tr>\n",
       "    <tr>\n",
       "      <th>1</th>\n",
       "      <td>Male</td>\n",
       "      <td>Icthyo Sapien</td>\n",
       "      <td>good</td>\n",
       "      <td>No Hair</td>\n",
       "      <td>blue</td>\n",
       "      <td>blue</td>\n",
       "      <td>{'Height': '191.0 cm', 'Weight': '65.0 kg'}</td>\n",
       "      <td>Abe Sapien</td>\n",
       "      <td>Dark Horse Comics</td>\n",
       "    </tr>\n",
       "  </tbody>\n",
       "</table>\n",
       "</div>"
      ],
      "text/plain": [
       "  Gender           Race Alignment Hair color Eye color Skin color  \\\n",
       "0   Male          Human      good    No Hair    yellow    Unknown   \n",
       "1   Male  Icthyo Sapien      good    No Hair      blue       blue   \n",
       "\n",
       "                                   Measurements        Hero          Publisher  \n",
       "0  {'Height': '203.0 cm', 'Weight': '441.0 kg'}      A-Bomb      Marvel Comics  \n",
       "1   {'Height': '191.0 cm', 'Weight': '65.0 kg'}  Abe Sapien  Dark Horse Comics  "
      ]
     },
     "execution_count": 9,
     "metadata": {},
     "output_type": "execute_result"
    }
   ],
   "source": [
    "super_info_df.drop(columns='Hero|Publisher', inplace=True)\n",
    "super_info_df.head(2)"
   ]
  },
  {
   "cell_type": "markdown",
   "id": "248320df",
   "metadata": {},
   "source": [
    "The column was successfully separated into two different columns."
   ]
  },
  {
   "cell_type": "markdown",
   "id": "01b75a36",
   "metadata": {},
   "source": [
    "## Separate Height and Weight"
   ]
  },
  {
   "cell_type": "code",
   "execution_count": 10,
   "id": "b76c03bb",
   "metadata": {},
   "outputs": [
    {
     "data": {
      "text/plain": [
       "0    {'Height': '203.0 cm', 'Weight': '441.0 kg'}\n",
       "1     {'Height': '191.0 cm', 'Weight': '65.0 kg'}\n",
       "Name: Measurements, dtype: object"
      ]
     },
     "execution_count": 10,
     "metadata": {},
     "output_type": "execute_result"
    }
   ],
   "source": [
    "# Exploring existing format with a few examples\n",
    "super_info_df['Measurements'].head(2)"
   ]
  },
  {
   "cell_type": "markdown",
   "id": "e7d7eeb5",
   "metadata": {},
   "source": [
    "The keys need to be columns, and the values will be items in those respective columns."
   ]
  },
  {
   "cell_type": "code",
   "execution_count": 11,
   "id": "f50e8c17",
   "metadata": {},
   "outputs": [
    {
     "name": "stdout",
     "output_type": "stream",
     "text": [
      "<class 'str'>\n"
     ]
    },
    {
     "data": {
      "text/plain": [
       "\"{'Height': '203.0 cm', 'Weight': '441.0 kg'}\""
      ]
     },
     "execution_count": 11,
     "metadata": {},
     "output_type": "execute_result"
    }
   ],
   "source": [
    "## examining a single value from the 'measurements' col\n",
    "height_and_weight = super_info_df.loc[0,'Measurements']\n",
    "print(type(height_and_weight))\n",
    "height_and_weight"
   ]
  },
  {
   "cell_type": "markdown",
   "id": "7a5defdc",
   "metadata": {},
   "source": [
    "- Notice that there are quotation marks around the entire dictionary! We actually have a STRING that LOOKS like a dictionary.\n",
    "- The entire coordinates column is dictionaries-turned-strings that must be converted back to dictionaries."
   ]
  },
  {
   "cell_type": "code",
   "execution_count": 12,
   "id": "782628c9",
   "metadata": {},
   "outputs": [
    {
     "data": {
      "text/plain": [
       "'{\"Height\": \"203.0 cm\", \"Weight\": \"441.0 kg\"}'"
      ]
     },
     "execution_count": 12,
     "metadata": {},
     "output_type": "execute_result"
    }
   ],
   "source": [
    "# The data will not be able to be cleaned because of the double quotes \" \"\n",
    "# To fix this, we can replace our single quotes with double quotes before we use json.loads.\n",
    "# For our single test string, we can use the .replace method:\n",
    "\n",
    "height_and_weight = height_and_weight.replace(\"'\",'\"')\n",
    "height_and_weight"
   ]
  },
  {
   "cell_type": "code",
   "execution_count": 13,
   "id": "ee4c8763",
   "metadata": {},
   "outputs": [
    {
     "name": "stdout",
     "output_type": "stream",
     "text": [
      "<class 'dict'>\n"
     ]
    },
    {
     "data": {
      "text/plain": [
       "{'Height': '203.0 cm', 'Weight': '441.0 kg'}"
      ]
     },
     "execution_count": 13,
     "metadata": {},
     "output_type": "execute_result"
    }
   ],
   "source": [
    "## now we can use json.loads\n",
    "fixed_height_and_weight = json.loads(height_and_weight)\n",
    "print(type(fixed_height_and_weight))\n",
    "fixed_height_and_weight"
   ]
  },
  {
   "cell_type": "markdown",
   "id": "1fd56073",
   "metadata": {},
   "source": [
    "Now that we know this will work, we can apply it to the entire column.\n",
    "\n",
    "We can apply this transformation to the entire column by combining:\n",
    "- Using .str.replace to replace single quotes.\n",
    "- Using .apply with json.loads to convert all rows simultaneously"
   ]
  },
  {
   "cell_type": "code",
   "execution_count": 14,
   "id": "cd664a53",
   "metadata": {},
   "outputs": [
    {
     "data": {
      "text/plain": [
       "0    {'Height': '203.0 cm', 'Weight': '441.0 kg'}\n",
       "1     {'Height': '191.0 cm', 'Weight': '65.0 kg'}\n",
       "2     {'Height': '185.0 cm', 'Weight': '90.0 kg'}\n",
       "3    {'Height': '203.0 cm', 'Weight': '441.0 kg'}\n",
       "4    {'Height': '193.0 cm', 'Weight': '122.0 kg'}\n",
       "Name: Measurements, dtype: object"
      ]
     },
     "execution_count": 14,
     "metadata": {},
     "output_type": "execute_result"
    }
   ],
   "source": [
    "## use .str.replace to replace all single quotes\n",
    "super_info_df['Measurements'] = super_info_df['Measurements'].str.replace(\"'\",'\"')\n",
    "## Apply the json.loads to the full column\n",
    "super_info_df['Measurements'] = super_info_df['Measurements'].apply(json.loads)\n",
    "super_info_df['Measurements'].head()"
   ]
  },
  {
   "cell_type": "code",
   "execution_count": 15,
   "id": "f4ca7495",
   "metadata": {},
   "outputs": [
    {
     "name": "stdout",
     "output_type": "stream",
     "text": [
      "<class 'dict'>\n"
     ]
    },
    {
     "data": {
      "text/plain": [
       "{'Height': '203.0 cm', 'Weight': '441.0 kg'}"
      ]
     },
     "execution_count": 15,
     "metadata": {},
     "output_type": "execute_result"
    }
   ],
   "source": [
    "## check a single value after transformation\n",
    "test_measurement = super_info_df.loc[0, 'Measurements']\n",
    "print(type(test_measurement))\n",
    "test_measurement"
   ]
  },
  {
   "cell_type": "markdown",
   "id": "019ffa5d",
   "metadata": {},
   "source": [
    "- We now want to convert the single \"Measurements\" column into 2 separate columns \"Height\" and \"Weight\".\n",
    "    - To do so, we will use .apply with the pd.Series function.\n",
    "\n",
    "- If we use the pandas pd.Series function on our column of dictionaries, it will automatically convert each key to a new column!"
   ]
  },
  {
   "cell_type": "code",
   "execution_count": 16,
   "id": "97600e3d",
   "metadata": {},
   "outputs": [
    {
     "data": {
      "text/html": [
       "<div>\n",
       "<style scoped>\n",
       "    .dataframe tbody tr th:only-of-type {\n",
       "        vertical-align: middle;\n",
       "    }\n",
       "\n",
       "    .dataframe tbody tr th {\n",
       "        vertical-align: top;\n",
       "    }\n",
       "\n",
       "    .dataframe thead th {\n",
       "        text-align: right;\n",
       "    }\n",
       "</style>\n",
       "<table border=\"1\" class=\"dataframe\">\n",
       "  <thead>\n",
       "    <tr style=\"text-align: right;\">\n",
       "      <th></th>\n",
       "      <th>Height</th>\n",
       "      <th>Weight</th>\n",
       "    </tr>\n",
       "  </thead>\n",
       "  <tbody>\n",
       "    <tr>\n",
       "      <th>0</th>\n",
       "      <td>203.0 cm</td>\n",
       "      <td>441.0 kg</td>\n",
       "    </tr>\n",
       "    <tr>\n",
       "      <th>1</th>\n",
       "      <td>191.0 cm</td>\n",
       "      <td>65.0 kg</td>\n",
       "    </tr>\n",
       "    <tr>\n",
       "      <th>2</th>\n",
       "      <td>185.0 cm</td>\n",
       "      <td>90.0 kg</td>\n",
       "    </tr>\n",
       "    <tr>\n",
       "      <th>3</th>\n",
       "      <td>203.0 cm</td>\n",
       "      <td>441.0 kg</td>\n",
       "    </tr>\n",
       "    <tr>\n",
       "      <th>4</th>\n",
       "      <td>193.0 cm</td>\n",
       "      <td>122.0 kg</td>\n",
       "    </tr>\n",
       "    <tr>\n",
       "      <th>...</th>\n",
       "      <td>...</td>\n",
       "      <td>...</td>\n",
       "    </tr>\n",
       "    <tr>\n",
       "      <th>458</th>\n",
       "      <td>183.0 cm</td>\n",
       "      <td>83.0 kg</td>\n",
       "    </tr>\n",
       "    <tr>\n",
       "      <th>459</th>\n",
       "      <td>165.0 cm</td>\n",
       "      <td>52.0 kg</td>\n",
       "    </tr>\n",
       "    <tr>\n",
       "      <th>460</th>\n",
       "      <td>66.0 cm</td>\n",
       "      <td>17.0 kg</td>\n",
       "    </tr>\n",
       "    <tr>\n",
       "      <th>461</th>\n",
       "      <td>170.0 cm</td>\n",
       "      <td>57.0 kg</td>\n",
       "    </tr>\n",
       "    <tr>\n",
       "      <th>462</th>\n",
       "      <td>185.0 cm</td>\n",
       "      <td>81.0 kg</td>\n",
       "    </tr>\n",
       "  </tbody>\n",
       "</table>\n",
       "<p>463 rows × 2 columns</p>\n",
       "</div>"
      ],
      "text/plain": [
       "       Height    Weight\n",
       "0    203.0 cm  441.0 kg\n",
       "1    191.0 cm   65.0 kg\n",
       "2    185.0 cm   90.0 kg\n",
       "3    203.0 cm  441.0 kg\n",
       "4    193.0 cm  122.0 kg\n",
       "..        ...       ...\n",
       "458  183.0 cm   83.0 kg\n",
       "459  165.0 cm   52.0 kg\n",
       "460   66.0 cm   17.0 kg\n",
       "461  170.0 cm   57.0 kg\n",
       "462  185.0 cm   81.0 kg\n",
       "\n",
       "[463 rows x 2 columns]"
      ]
     },
     "execution_count": 16,
     "metadata": {},
     "output_type": "execute_result"
    }
   ],
   "source": [
    "height_weight = super_info_df['Measurements'].apply(pd.Series)\n",
    "height_weight"
   ]
  },
  {
   "cell_type": "markdown",
   "id": "c8bf4139",
   "metadata": {},
   "source": [
    "Now, we concatenate these 2 new columns to our original dataframe AND drop the original column.\n",
    "- We will use pd.concat with axis=1 to concatenate the two dataframes side by side.\n",
    "    - pd.concat([df1,df2], axis=1)"
   ]
  },
  {
   "cell_type": "code",
   "execution_count": 17,
   "id": "8a7b952b",
   "metadata": {},
   "outputs": [
    {
     "data": {
      "text/html": [
       "<div>\n",
       "<style scoped>\n",
       "    .dataframe tbody tr th:only-of-type {\n",
       "        vertical-align: middle;\n",
       "    }\n",
       "\n",
       "    .dataframe tbody tr th {\n",
       "        vertical-align: top;\n",
       "    }\n",
       "\n",
       "    .dataframe thead th {\n",
       "        text-align: right;\n",
       "    }\n",
       "</style>\n",
       "<table border=\"1\" class=\"dataframe\">\n",
       "  <thead>\n",
       "    <tr style=\"text-align: right;\">\n",
       "      <th></th>\n",
       "      <th>Gender</th>\n",
       "      <th>Race</th>\n",
       "      <th>Alignment</th>\n",
       "      <th>Hair color</th>\n",
       "      <th>Eye color</th>\n",
       "      <th>Skin color</th>\n",
       "      <th>Measurements</th>\n",
       "      <th>Hero</th>\n",
       "      <th>Publisher</th>\n",
       "      <th>Height</th>\n",
       "      <th>Weight</th>\n",
       "    </tr>\n",
       "  </thead>\n",
       "  <tbody>\n",
       "    <tr>\n",
       "      <th>0</th>\n",
       "      <td>Male</td>\n",
       "      <td>Human</td>\n",
       "      <td>good</td>\n",
       "      <td>No Hair</td>\n",
       "      <td>yellow</td>\n",
       "      <td>Unknown</td>\n",
       "      <td>{'Height': '203.0 cm', 'Weight': '441.0 kg'}</td>\n",
       "      <td>A-Bomb</td>\n",
       "      <td>Marvel Comics</td>\n",
       "      <td>203.0 cm</td>\n",
       "      <td>441.0 kg</td>\n",
       "    </tr>\n",
       "    <tr>\n",
       "      <th>1</th>\n",
       "      <td>Male</td>\n",
       "      <td>Icthyo Sapien</td>\n",
       "      <td>good</td>\n",
       "      <td>No Hair</td>\n",
       "      <td>blue</td>\n",
       "      <td>blue</td>\n",
       "      <td>{'Height': '191.0 cm', 'Weight': '65.0 kg'}</td>\n",
       "      <td>Abe Sapien</td>\n",
       "      <td>Dark Horse Comics</td>\n",
       "      <td>191.0 cm</td>\n",
       "      <td>65.0 kg</td>\n",
       "    </tr>\n",
       "  </tbody>\n",
       "</table>\n",
       "</div>"
      ],
      "text/plain": [
       "  Gender           Race Alignment Hair color Eye color Skin color  \\\n",
       "0   Male          Human      good    No Hair    yellow    Unknown   \n",
       "1   Male  Icthyo Sapien      good    No Hair      blue       blue   \n",
       "\n",
       "                                   Measurements        Hero  \\\n",
       "0  {'Height': '203.0 cm', 'Weight': '441.0 kg'}      A-Bomb   \n",
       "1   {'Height': '191.0 cm', 'Weight': '65.0 kg'}  Abe Sapien   \n",
       "\n",
       "           Publisher    Height    Weight  \n",
       "0      Marvel Comics  203.0 cm  441.0 kg  \n",
       "1  Dark Horse Comics  191.0 cm   65.0 kg  "
      ]
     },
     "execution_count": 17,
     "metadata": {},
     "output_type": "execute_result"
    }
   ],
   "source": [
    "# concat height_weight with original dataframe\n",
    "super_info_df = pd.concat([super_info_df, height_weight], axis = 1)\n",
    "super_info_df.head(2)"
   ]
  },
  {
   "cell_type": "markdown",
   "id": "f661e91e",
   "metadata": {},
   "source": [
    "Success! Now to drop the 'Measurements' column."
   ]
  },
  {
   "cell_type": "code",
   "execution_count": 18,
   "id": "a7d9f968",
   "metadata": {},
   "outputs": [
    {
     "data": {
      "text/html": [
       "<div>\n",
       "<style scoped>\n",
       "    .dataframe tbody tr th:only-of-type {\n",
       "        vertical-align: middle;\n",
       "    }\n",
       "\n",
       "    .dataframe tbody tr th {\n",
       "        vertical-align: top;\n",
       "    }\n",
       "\n",
       "    .dataframe thead th {\n",
       "        text-align: right;\n",
       "    }\n",
       "</style>\n",
       "<table border=\"1\" class=\"dataframe\">\n",
       "  <thead>\n",
       "    <tr style=\"text-align: right;\">\n",
       "      <th></th>\n",
       "      <th>Gender</th>\n",
       "      <th>Race</th>\n",
       "      <th>Alignment</th>\n",
       "      <th>Hair color</th>\n",
       "      <th>Eye color</th>\n",
       "      <th>Skin color</th>\n",
       "      <th>Hero</th>\n",
       "      <th>Publisher</th>\n",
       "      <th>Height</th>\n",
       "      <th>Weight</th>\n",
       "    </tr>\n",
       "  </thead>\n",
       "  <tbody>\n",
       "    <tr>\n",
       "      <th>0</th>\n",
       "      <td>Male</td>\n",
       "      <td>Human</td>\n",
       "      <td>good</td>\n",
       "      <td>No Hair</td>\n",
       "      <td>yellow</td>\n",
       "      <td>Unknown</td>\n",
       "      <td>A-Bomb</td>\n",
       "      <td>Marvel Comics</td>\n",
       "      <td>203.0 cm</td>\n",
       "      <td>441.0 kg</td>\n",
       "    </tr>\n",
       "    <tr>\n",
       "      <th>1</th>\n",
       "      <td>Male</td>\n",
       "      <td>Icthyo Sapien</td>\n",
       "      <td>good</td>\n",
       "      <td>No Hair</td>\n",
       "      <td>blue</td>\n",
       "      <td>blue</td>\n",
       "      <td>Abe Sapien</td>\n",
       "      <td>Dark Horse Comics</td>\n",
       "      <td>191.0 cm</td>\n",
       "      <td>65.0 kg</td>\n",
       "    </tr>\n",
       "    <tr>\n",
       "      <th>2</th>\n",
       "      <td>Male</td>\n",
       "      <td>Ungaran</td>\n",
       "      <td>good</td>\n",
       "      <td>No Hair</td>\n",
       "      <td>blue</td>\n",
       "      <td>red</td>\n",
       "      <td>Abin Sur</td>\n",
       "      <td>DC Comics</td>\n",
       "      <td>185.0 cm</td>\n",
       "      <td>90.0 kg</td>\n",
       "    </tr>\n",
       "    <tr>\n",
       "      <th>3</th>\n",
       "      <td>Male</td>\n",
       "      <td>Human / Radiation</td>\n",
       "      <td>bad</td>\n",
       "      <td>No Hair</td>\n",
       "      <td>green</td>\n",
       "      <td>Unknown</td>\n",
       "      <td>Abomination</td>\n",
       "      <td>Marvel Comics</td>\n",
       "      <td>203.0 cm</td>\n",
       "      <td>441.0 kg</td>\n",
       "    </tr>\n",
       "    <tr>\n",
       "      <th>4</th>\n",
       "      <td>Male</td>\n",
       "      <td>Human</td>\n",
       "      <td>bad</td>\n",
       "      <td>No Hair</td>\n",
       "      <td>blue</td>\n",
       "      <td>Unknown</td>\n",
       "      <td>Absorbing Man</td>\n",
       "      <td>Marvel Comics</td>\n",
       "      <td>193.0 cm</td>\n",
       "      <td>122.0 kg</td>\n",
       "    </tr>\n",
       "  </tbody>\n",
       "</table>\n",
       "</div>"
      ],
      "text/plain": [
       "  Gender               Race Alignment Hair color Eye color Skin color  \\\n",
       "0   Male              Human      good    No Hair    yellow    Unknown   \n",
       "1   Male      Icthyo Sapien      good    No Hair      blue       blue   \n",
       "2   Male            Ungaran      good    No Hair      blue        red   \n",
       "3   Male  Human / Radiation       bad    No Hair     green    Unknown   \n",
       "4   Male              Human       bad    No Hair      blue    Unknown   \n",
       "\n",
       "            Hero          Publisher    Height    Weight  \n",
       "0         A-Bomb      Marvel Comics  203.0 cm  441.0 kg  \n",
       "1     Abe Sapien  Dark Horse Comics  191.0 cm   65.0 kg  \n",
       "2       Abin Sur          DC Comics  185.0 cm   90.0 kg  \n",
       "3    Abomination      Marvel Comics  203.0 cm  441.0 kg  \n",
       "4  Absorbing Man      Marvel Comics  193.0 cm  122.0 kg  "
      ]
     },
     "execution_count": 18,
     "metadata": {},
     "output_type": "execute_result"
    }
   ],
   "source": [
    "# dropping the 'Measurements' column\n",
    "super_info_df.drop(columns='Measurements', inplace=True)\n",
    "super_info_df.head()"
   ]
  },
  {
   "cell_type": "markdown",
   "id": "1f7e7f7b",
   "metadata": {},
   "source": [
    "## Change dtype of 'Height' and 'Weight'"
   ]
  },
  {
   "cell_type": "code",
   "execution_count": 19,
   "id": "de7ed02e",
   "metadata": {},
   "outputs": [
    {
     "name": "stdout",
     "output_type": "stream",
     "text": [
      "<class 'pandas.core.frame.DataFrame'>\n",
      "RangeIndex: 463 entries, 0 to 462\n",
      "Data columns (total 10 columns):\n",
      " #   Column      Non-Null Count  Dtype \n",
      "---  ------      --------------  ----- \n",
      " 0   Gender      463 non-null    object\n",
      " 1   Race        463 non-null    object\n",
      " 2   Alignment   463 non-null    object\n",
      " 3   Hair color  463 non-null    object\n",
      " 4   Eye color   463 non-null    object\n",
      " 5   Skin color  463 non-null    object\n",
      " 6   Hero        463 non-null    object\n",
      " 7   Publisher   463 non-null    object\n",
      " 8   Height      463 non-null    object\n",
      " 9   Weight      463 non-null    object\n",
      "dtypes: object(10)\n",
      "memory usage: 36.3+ KB\n"
     ]
    }
   ],
   "source": [
    "# checking dtypes\n",
    "super_info_df.info()"
   ]
  },
  {
   "cell_type": "markdown",
   "id": "6a880e34",
   "metadata": {},
   "source": [
    "Height and Weight are both objects still, need to change to numeric."
   ]
  },
  {
   "cell_type": "code",
   "execution_count": 20,
   "id": "d4a22132",
   "metadata": {},
   "outputs": [
    {
     "name": "stdout",
     "output_type": "stream",
     "text": [
      "0    203.0 cm\n",
      "1    191.0 cm\n",
      "2    185.0 cm\n",
      "3    203.0 cm\n",
      "4    193.0 cm\n",
      "5    185.0 cm\n",
      "6    178.0 cm\n",
      "7    191.0 cm\n",
      "8    188.0 cm\n",
      "9    193.0 cm\n",
      "Name: Height, dtype: object\n",
      "0    441.0 kg\n",
      "1     65.0 kg\n",
      "2     90.0 kg\n",
      "3    441.0 kg\n",
      "4    122.0 kg\n",
      "5     88.0 kg\n",
      "6     81.0 kg\n",
      "7    104.0 kg\n",
      "8    108.0 kg\n",
      "9     90.0 kg\n",
      "Name: Weight, dtype: object\n"
     ]
    }
   ],
   "source": [
    "# checking for the values, if they are int or float\n",
    "print(super_info_df['Height'].head(10))\n",
    "print(super_info_df['Weight'].head(10))"
   ]
  },
  {
   "cell_type": "markdown",
   "id": "670cb877",
   "metadata": {},
   "source": [
    "Converting the values to int because the decimals are all '0'."
   ]
  },
  {
   "cell_type": "code",
   "execution_count": 21,
   "id": "225e6b45",
   "metadata": {},
   "outputs": [],
   "source": [
    "# pd.to_numeric(super_info_df['Height'], downcast=\"integer\")\n",
    "# pd.to_numeric(super_info_df['Weight'], downcast=\"integer\")\n",
    "\n",
    "# super_info_df.info()"
   ]
  },
  {
   "cell_type": "markdown",
   "id": "3f09756c",
   "metadata": {},
   "source": [
    "Error! Need to get rid of the \" cm\" and \" kg\"."
   ]
  },
  {
   "cell_type": "code",
   "execution_count": 22,
   "id": "7bac35a3",
   "metadata": {},
   "outputs": [
    {
     "data": {
      "text/html": [
       "<div>\n",
       "<style scoped>\n",
       "    .dataframe tbody tr th:only-of-type {\n",
       "        vertical-align: middle;\n",
       "    }\n",
       "\n",
       "    .dataframe tbody tr th {\n",
       "        vertical-align: top;\n",
       "    }\n",
       "\n",
       "    .dataframe thead th {\n",
       "        text-align: right;\n",
       "    }\n",
       "</style>\n",
       "<table border=\"1\" class=\"dataframe\">\n",
       "  <thead>\n",
       "    <tr style=\"text-align: right;\">\n",
       "      <th></th>\n",
       "      <th>Gender</th>\n",
       "      <th>Race</th>\n",
       "      <th>Alignment</th>\n",
       "      <th>Hair color</th>\n",
       "      <th>Eye color</th>\n",
       "      <th>Skin color</th>\n",
       "      <th>Hero</th>\n",
       "      <th>Publisher</th>\n",
       "      <th>Height</th>\n",
       "      <th>Weight</th>\n",
       "    </tr>\n",
       "  </thead>\n",
       "  <tbody>\n",
       "    <tr>\n",
       "      <th>0</th>\n",
       "      <td>Male</td>\n",
       "      <td>Human</td>\n",
       "      <td>good</td>\n",
       "      <td>No Hair</td>\n",
       "      <td>yellow</td>\n",
       "      <td>Unknown</td>\n",
       "      <td>A-Bomb</td>\n",
       "      <td>Marvel Comics</td>\n",
       "      <td>203.0</td>\n",
       "      <td>441.0</td>\n",
       "    </tr>\n",
       "    <tr>\n",
       "      <th>1</th>\n",
       "      <td>Male</td>\n",
       "      <td>Icthyo Sapien</td>\n",
       "      <td>good</td>\n",
       "      <td>No Hair</td>\n",
       "      <td>blue</td>\n",
       "      <td>blue</td>\n",
       "      <td>Abe Sapien</td>\n",
       "      <td>Dark Horse Comics</td>\n",
       "      <td>191.0</td>\n",
       "      <td>65.0</td>\n",
       "    </tr>\n",
       "  </tbody>\n",
       "</table>\n",
       "</div>"
      ],
      "text/plain": [
       "  Gender           Race Alignment Hair color Eye color Skin color        Hero  \\\n",
       "0   Male          Human      good    No Hair    yellow    Unknown      A-Bomb   \n",
       "1   Male  Icthyo Sapien      good    No Hair      blue       blue  Abe Sapien   \n",
       "\n",
       "           Publisher Height Weight  \n",
       "0      Marvel Comics  203.0  441.0  \n",
       "1  Dark Horse Comics  191.0   65.0  "
      ]
     },
     "execution_count": 22,
     "metadata": {},
     "output_type": "execute_result"
    }
   ],
   "source": [
    "super_info_df.replace([' cm', ' kg'], '', inplace=True, regex=True)\n",
    "super_info_df.head(2)"
   ]
  },
  {
   "cell_type": "markdown",
   "id": "54efe631",
   "metadata": {},
   "source": [
    "Success! Checking the dtype again."
   ]
  },
  {
   "cell_type": "code",
   "execution_count": 23,
   "id": "0a48a22d",
   "metadata": {},
   "outputs": [
    {
     "name": "stdout",
     "output_type": "stream",
     "text": [
      "<class 'pandas.core.frame.DataFrame'>\n",
      "RangeIndex: 463 entries, 0 to 462\n",
      "Data columns (total 10 columns):\n",
      " #   Column      Non-Null Count  Dtype \n",
      "---  ------      --------------  ----- \n",
      " 0   Gender      463 non-null    object\n",
      " 1   Race        463 non-null    object\n",
      " 2   Alignment   463 non-null    object\n",
      " 3   Hair color  463 non-null    object\n",
      " 4   Eye color   463 non-null    object\n",
      " 5   Skin color  463 non-null    object\n",
      " 6   Hero        463 non-null    object\n",
      " 7   Publisher   463 non-null    object\n",
      " 8   Height      463 non-null    object\n",
      " 9   Weight      463 non-null    object\n",
      "dtypes: object(10)\n",
      "memory usage: 36.3+ KB\n"
     ]
    }
   ],
   "source": [
    "super_info_df.info()"
   ]
  },
  {
   "cell_type": "markdown",
   "id": "ca2fd0c2",
   "metadata": {},
   "source": [
    "Still 'obj', will now change to 'float'."
   ]
  },
  {
   "cell_type": "code",
   "execution_count": 24,
   "id": "3ff1e7a4",
   "metadata": {},
   "outputs": [
    {
     "name": "stdout",
     "output_type": "stream",
     "text": [
      "<class 'pandas.core.frame.DataFrame'>\n",
      "RangeIndex: 463 entries, 0 to 462\n",
      "Data columns (total 10 columns):\n",
      " #   Column      Non-Null Count  Dtype  \n",
      "---  ------      --------------  -----  \n",
      " 0   Gender      463 non-null    object \n",
      " 1   Race        463 non-null    object \n",
      " 2   Alignment   463 non-null    object \n",
      " 3   Hair color  463 non-null    object \n",
      " 4   Eye color   463 non-null    object \n",
      " 5   Skin color  463 non-null    object \n",
      " 6   Hero        463 non-null    object \n",
      " 7   Publisher   463 non-null    object \n",
      " 8   Height      463 non-null    float64\n",
      " 9   Weight      463 non-null    float64\n",
      "dtypes: float64(2), object(8)\n",
      "memory usage: 36.3+ KB\n"
     ]
    }
   ],
   "source": [
    "super_info_df['Height'] = pd.to_numeric(super_info_df['Height'])\n",
    "super_info_df['Weight'] = pd.to_numeric(super_info_df['Weight'])\n",
    "super_info_df.info()"
   ]
  },
  {
   "cell_type": "markdown",
   "id": "ab30aac4",
   "metadata": {},
   "source": [
    "Success!"
   ]
  },
  {
   "cell_type": "markdown",
   "id": "73082701",
   "metadata": {},
   "source": [
    "# Prepare Data (super_powers_df)"
   ]
  },
  {
   "cell_type": "markdown",
   "id": "8f3db224",
   "metadata": {},
   "source": [
    "## Separate the 'Powers' into their own columns"
   ]
  },
  {
   "cell_type": "code",
   "execution_count": 25,
   "id": "a3e4d37d",
   "metadata": {},
   "outputs": [
    {
     "data": {
      "text/html": [
       "<div>\n",
       "<style scoped>\n",
       "    .dataframe tbody tr th:only-of-type {\n",
       "        vertical-align: middle;\n",
       "    }\n",
       "\n",
       "    .dataframe tbody tr th {\n",
       "        vertical-align: top;\n",
       "    }\n",
       "\n",
       "    .dataframe thead th {\n",
       "        text-align: right;\n",
       "    }\n",
       "</style>\n",
       "<table border=\"1\" class=\"dataframe\">\n",
       "  <thead>\n",
       "    <tr style=\"text-align: right;\">\n",
       "      <th></th>\n",
       "      <th>hero_names</th>\n",
       "      <th>Powers</th>\n",
       "    </tr>\n",
       "  </thead>\n",
       "  <tbody>\n",
       "    <tr>\n",
       "      <th>0</th>\n",
       "      <td>3-D Man</td>\n",
       "      <td>Agility,Super Strength,Stamina,Super Speed</td>\n",
       "    </tr>\n",
       "    <tr>\n",
       "      <th>1</th>\n",
       "      <td>A-Bomb</td>\n",
       "      <td>Accelerated Healing,Durability,Longevity,Super...</td>\n",
       "    </tr>\n",
       "    <tr>\n",
       "      <th>2</th>\n",
       "      <td>Abe Sapien</td>\n",
       "      <td>Agility,Accelerated Healing,Cold Resistance,Du...</td>\n",
       "    </tr>\n",
       "    <tr>\n",
       "      <th>3</th>\n",
       "      <td>Abin Sur</td>\n",
       "      <td>Lantern Power Ring</td>\n",
       "    </tr>\n",
       "    <tr>\n",
       "      <th>4</th>\n",
       "      <td>Abomination</td>\n",
       "      <td>Accelerated Healing,Intelligence,Super Strengt...</td>\n",
       "    </tr>\n",
       "  </tbody>\n",
       "</table>\n",
       "</div>"
      ],
      "text/plain": [
       "    hero_names                                             Powers\n",
       "0      3-D Man         Agility,Super Strength,Stamina,Super Speed\n",
       "1       A-Bomb  Accelerated Healing,Durability,Longevity,Super...\n",
       "2   Abe Sapien  Agility,Accelerated Healing,Cold Resistance,Du...\n",
       "3     Abin Sur                                 Lantern Power Ring\n",
       "4  Abomination  Accelerated Healing,Intelligence,Super Strengt..."
      ]
     },
     "execution_count": 25,
     "metadata": {},
     "output_type": "execute_result"
    }
   ],
   "source": [
    "# review super_powers_df\n",
    "super_powers_df.head()"
   ]
  },
  {
   "cell_type": "code",
   "execution_count": 26,
   "id": "5577bc7b",
   "metadata": {},
   "outputs": [
    {
     "data": {
      "text/plain": [
       "'Agility,Accelerated Healing,Cold Resistance,Durability,Underwater breathing,Marksmanship,Weapons Master,Longevity,Intelligence,Super Strength,Telepathy,Stamina,Immortality,Reflexes,Enhanced Sight,Sub-Mariner'"
      ]
     },
     "execution_count": 26,
     "metadata": {},
     "output_type": "execute_result"
    }
   ],
   "source": [
    "## showing the lists are really strings\n",
    "super_powers_df.loc[2,'Powers']"
   ]
  },
  {
   "cell_type": "code",
   "execution_count": 27,
   "id": "e261dac2",
   "metadata": {},
   "outputs": [],
   "source": [
    "# Create a new column where the single quotes are replaced by double quotes\n",
    "super_powers_df['Powers_Split'] = super_powers_df['Powers'].str.split(',', expand=False)"
   ]
  },
  {
   "cell_type": "code",
   "execution_count": 28,
   "id": "3772f1c3",
   "metadata": {},
   "outputs": [
    {
     "data": {
      "text/plain": [
       "['Agility',\n",
       " 'Accelerated Healing',\n",
       " 'Cold Resistance',\n",
       " 'Durability',\n",
       " 'Underwater breathing',\n",
       " 'Marksmanship',\n",
       " 'Weapons Master',\n",
       " 'Longevity',\n",
       " 'Intelligence',\n",
       " 'Super Strength',\n",
       " 'Telepathy',\n",
       " 'Stamina',\n",
       " 'Immortality',\n",
       " 'Reflexes',\n",
       " 'Enhanced Sight',\n",
       " 'Sub-Mariner']"
      ]
     },
     "execution_count": 28,
     "metadata": {},
     "output_type": "execute_result"
    }
   ],
   "source": [
    "## showing the lists are really strings\n",
    "super_powers_df.loc[2,'Powers_Split']"
   ]
  },
  {
   "cell_type": "code",
   "execution_count": 29,
   "id": "03348a96",
   "metadata": {},
   "outputs": [
    {
     "data": {
      "text/plain": [
       "[Intelligence]                                                                                                                                                                                                                                                                          8\n",
       "[Durability, Super Strength]                                                                                                                                                                                                                                                            5\n",
       "[Agility, Stealth, Marksmanship, Weapons Master, Stamina]                                                                                                                                                                                                                               4\n",
       "[Marksmanship]                                                                                                                                                                                                                                                                          4\n",
       "[Teleportation]                                                                                                                                                                                                                                                                         4\n",
       "                                                                                                                                                                                                                                                                                       ..\n",
       "[Accelerated Healing, Flight, Telepathy, Energy Blasts, Teleportation, Telekinesis, Astral Projection, Psionic Powers, Mind Blast, Regeneration, Illusions, Resurrection]                                                                                                               1\n",
       "[Flight, Telepathy, Animal Oriented Powers, Gliding]                                                                                                                                                                                                                                    1\n",
       "[Accelerated Healing, Durability, Energy Absorption, Flight, Super Strength, Telepathy, Energy Blasts, Size Changing, Super Speed, Darkforce Manipulation, Enhanced Senses, Phasing, Invulnerability, Self-Sustenance, Gravity Control, Energy Manipulation, Time Travel, Illusions]    1\n",
       "[Agility, Accelerated Healing, Super Strength, Super Speed, Animal Oriented Powers, Enhanced Senses, Jump, Reflexes, Natural Weapons]                                                                                                                                                   1\n",
       "[Super Speed, Intangibility, Time Travel, Time Manipulation]                                                                                                                                                                                                                            1\n",
       "Name: Powers_Split, Length: 608, dtype: int64"
      ]
     },
     "execution_count": 29,
     "metadata": {},
     "output_type": "execute_result"
    }
   ],
   "source": [
    "# exploring the .value_counts in the column 'Powers_Split'\n",
    "super_powers_df['Powers_Split'].value_counts()"
   ]
  },
  {
   "cell_type": "code",
   "execution_count": 30,
   "id": "e8a284dd",
   "metadata": {},
   "outputs": [
    {
     "data": {
      "text/html": [
       "<div>\n",
       "<style scoped>\n",
       "    .dataframe tbody tr th:only-of-type {\n",
       "        vertical-align: middle;\n",
       "    }\n",
       "\n",
       "    .dataframe tbody tr th {\n",
       "        vertical-align: top;\n",
       "    }\n",
       "\n",
       "    .dataframe thead th {\n",
       "        text-align: right;\n",
       "    }\n",
       "</style>\n",
       "<table border=\"1\" class=\"dataframe\">\n",
       "  <thead>\n",
       "    <tr style=\"text-align: right;\">\n",
       "      <th></th>\n",
       "      <th>hero_names</th>\n",
       "      <th>Powers</th>\n",
       "      <th>Powers_Split</th>\n",
       "    </tr>\n",
       "  </thead>\n",
       "  <tbody>\n",
       "    <tr>\n",
       "      <th>0</th>\n",
       "      <td>3-D Man</td>\n",
       "      <td>Agility,Super Strength,Stamina,Super Speed</td>\n",
       "      <td>Agility</td>\n",
       "    </tr>\n",
       "    <tr>\n",
       "      <th>0</th>\n",
       "      <td>3-D Man</td>\n",
       "      <td>Agility,Super Strength,Stamina,Super Speed</td>\n",
       "      <td>Super Strength</td>\n",
       "    </tr>\n",
       "    <tr>\n",
       "      <th>0</th>\n",
       "      <td>3-D Man</td>\n",
       "      <td>Agility,Super Strength,Stamina,Super Speed</td>\n",
       "      <td>Stamina</td>\n",
       "    </tr>\n",
       "    <tr>\n",
       "      <th>0</th>\n",
       "      <td>3-D Man</td>\n",
       "      <td>Agility,Super Strength,Stamina,Super Speed</td>\n",
       "      <td>Super Speed</td>\n",
       "    </tr>\n",
       "    <tr>\n",
       "      <th>1</th>\n",
       "      <td>A-Bomb</td>\n",
       "      <td>Accelerated Healing,Durability,Longevity,Super...</td>\n",
       "      <td>Accelerated Healing</td>\n",
       "    </tr>\n",
       "  </tbody>\n",
       "</table>\n",
       "</div>"
      ],
      "text/plain": [
       "  hero_names                                             Powers  \\\n",
       "0    3-D Man         Agility,Super Strength,Stamina,Super Speed   \n",
       "0    3-D Man         Agility,Super Strength,Stamina,Super Speed   \n",
       "0    3-D Man         Agility,Super Strength,Stamina,Super Speed   \n",
       "0    3-D Man         Agility,Super Strength,Stamina,Super Speed   \n",
       "1     A-Bomb  Accelerated Healing,Durability,Longevity,Super...   \n",
       "\n",
       "          Powers_Split  \n",
       "0              Agility  \n",
       "0       Super Strength  \n",
       "0              Stamina  \n",
       "0          Super Speed  \n",
       "1  Accelerated Healing  "
      ]
     },
     "execution_count": 30,
     "metadata": {},
     "output_type": "execute_result"
    }
   ],
   "source": [
    "## exploding the column of lists\n",
    "exploded = super_powers_df.explode('Powers_Split')\n",
    "exploded[['hero_names','Powers','Powers_Split']].head(5)"
   ]
  },
  {
   "cell_type": "code",
   "execution_count": 31,
   "id": "328532e3",
   "metadata": {},
   "outputs": [
    {
     "data": {
      "text/plain": [
       "array(['Agility', 'Super Strength', 'Stamina', 'Super Speed',\n",
       "       'Accelerated Healing', 'Durability', 'Longevity', 'Camouflage',\n",
       "       'Self-Sustenance', 'Cold Resistance', 'Underwater breathing',\n",
       "       'Marksmanship', 'Weapons Master', 'Intelligence', 'Telepathy',\n",
       "       'Immortality', 'Reflexes', 'Enhanced Sight', 'Sub-Mariner',\n",
       "       'Lantern Power Ring', 'Invulnerability', 'Animation',\n",
       "       'Super Breath', 'Dimensional Awareness', 'Flight', 'Size Changing',\n",
       "       'Teleportation', 'Magic', 'Dimensional Travel',\n",
       "       'Molecular Manipulation', 'Energy Manipulation', 'Power Cosmic',\n",
       "       'Energy Absorption', 'Elemental Transmogrification',\n",
       "       'Fire Resistance', 'Natural Armor', 'Heat Resistance',\n",
       "       'Matter Absorption', 'Regeneration', 'Stealth', 'Power Suit',\n",
       "       'Energy Blasts', 'Energy Beams', 'Heat Generation', 'Danger Sense',\n",
       "       'Phasing', 'Force Fields', 'Hypnokinesis', 'Invisibility',\n",
       "       'Enhanced Senses', 'Jump', 'Shapeshifting', 'Elasticity',\n",
       "       'Substance Secretion', 'Enhanced Hearing', 'Adaptation', 'Gliding',\n",
       "       'Natural Weapons', 'Wallcrawling', 'Vision - Thermal',\n",
       "       'Power Augmentation', 'Cryokinesis', 'Duplication',\n",
       "       'Weapon-based Powers', 'Fire Control', 'Enhanced Memory',\n",
       "       'Energy Constructs', 'Power Absorption', 'Time Travel',\n",
       "       'Enhanced Smell', 'Water Control', 'Vision - Telescopic',\n",
       "       'Magnetism', 'Vision - Microscopic', 'Vision - Night',\n",
       "       'Vision - Heat', 'Vision - X-Ray', 'Psionic Powers',\n",
       "       'Toxin and Disease Resistance', 'Animal Attributes',\n",
       "       'Animal Oriented Powers', 'Toxin and Disease Control', 'Empathy',\n",
       "       'Animal Control', 'Darkforce Manipulation', 'Time Manipulation',\n",
       "       'Reality Warping', 'Web Creation', 'Symbiote Costume',\n",
       "       'Telekinesis', 'Levitation', 'Biokinesis', 'Sonar',\n",
       "       'Enhanced Touch', 'Seismic Power', 'Energy Armor',\n",
       "       'Omnilingualism', 'Radiation Immunity', 'Density Control',\n",
       "       'Light Control', 'Illumination', 'Molecular Combustion',\n",
       "       'Astral Travel', 'Precognition', 'Intangibility', 'Illusions',\n",
       "       'Audio Control', 'Sonic Scream', 'Peak Human Condition',\n",
       "       'Vision - Infrared', 'Dexterity', 'Omnitrix', 'Omnipotent',\n",
       "       'Possession', 'Energy Resistance', 'Vision - Cryo', 'Mind Control',\n",
       "       'Mind Blast', 'Clairvoyance', 'Probability Manipulation',\n",
       "       'Death Touch', 'Electrokinesis', 'Gravity Control',\n",
       "       'Technopath/Cyberpath', 'Radar Sense', 'Astral Projection',\n",
       "       'Cloaking', 'Telepathy Resistance', 'Mind Control Resistance',\n",
       "       'Hyperkinesis', 'Spatial Awareness', 'Radiation Control',\n",
       "       'Radiation Absorption', 'Magic Resistance', 'Element Control',\n",
       "       'Plant Control', 'Terrakinesis', 'Power Sense', 'Wind Control',\n",
       "       'Qwardian Power Ring', 'Echolocation', 'Resurrection', 'The Force',\n",
       "       'Summoning', 'Banish', 'Molecular Dissipation',\n",
       "       'Electrical Transport', 'Speed Force', 'Grim Reaping',\n",
       "       'Portal Creation', 'Vitakinesis', 'Projection', 'Insanity',\n",
       "       'Photographic Reflexes', 'Anti-Gravity', 'Thirstokinesis',\n",
       "       'Power Nullifier', 'Weather Control', 'Omnipresent', 'Omniscient',\n",
       "       'Hair Manipulation', 'Nova Force', 'Odin Force', 'Phoenix Force',\n",
       "       'Intuitive aptitude', 'Melting', 'Changing Armor'], dtype=object)"
      ]
     },
     "execution_count": 31,
     "metadata": {},
     "output_type": "execute_result"
    }
   ],
   "source": [
    "## saving the unique values from the exploded column\n",
    "cols_to_make = exploded['Powers_Split'].dropna().unique()\n",
    "cols_to_make"
   ]
  },
  {
   "cell_type": "code",
   "execution_count": 32,
   "id": "97db0eda",
   "metadata": {},
   "outputs": [
    {
     "name": "stderr",
     "output_type": "stream",
     "text": [
      "C:\\Users\\oneda\\AppData\\Local\\Temp\\ipykernel_2400\\2407499648.py:3: PerformanceWarning: DataFrame is highly fragmented.  This is usually the result of calling `frame.insert` many times, which has poor performance.  Consider joining all columns at once using pd.concat(axis=1) instead. To get a de-fragmented frame, use `newframe = frame.copy()`\n",
      "  super_powers_df[col] = super_powers_df['Powers'].str.contains(col)\n",
      "C:\\Users\\oneda\\AppData\\Local\\Temp\\ipykernel_2400\\2407499648.py:3: PerformanceWarning: DataFrame is highly fragmented.  This is usually the result of calling `frame.insert` many times, which has poor performance.  Consider joining all columns at once using pd.concat(axis=1) instead. To get a de-fragmented frame, use `newframe = frame.copy()`\n",
      "  super_powers_df[col] = super_powers_df['Powers'].str.contains(col)\n",
      "C:\\Users\\oneda\\AppData\\Local\\Temp\\ipykernel_2400\\2407499648.py:3: PerformanceWarning: DataFrame is highly fragmented.  This is usually the result of calling `frame.insert` many times, which has poor performance.  Consider joining all columns at once using pd.concat(axis=1) instead. To get a de-fragmented frame, use `newframe = frame.copy()`\n",
      "  super_powers_df[col] = super_powers_df['Powers'].str.contains(col)\n",
      "C:\\Users\\oneda\\AppData\\Local\\Temp\\ipykernel_2400\\2407499648.py:3: PerformanceWarning: DataFrame is highly fragmented.  This is usually the result of calling `frame.insert` many times, which has poor performance.  Consider joining all columns at once using pd.concat(axis=1) instead. To get a de-fragmented frame, use `newframe = frame.copy()`\n",
      "  super_powers_df[col] = super_powers_df['Powers'].str.contains(col)\n",
      "C:\\Users\\oneda\\AppData\\Local\\Temp\\ipykernel_2400\\2407499648.py:3: PerformanceWarning: DataFrame is highly fragmented.  This is usually the result of calling `frame.insert` many times, which has poor performance.  Consider joining all columns at once using pd.concat(axis=1) instead. To get a de-fragmented frame, use `newframe = frame.copy()`\n",
      "  super_powers_df[col] = super_powers_df['Powers'].str.contains(col)\n",
      "C:\\Users\\oneda\\AppData\\Local\\Temp\\ipykernel_2400\\2407499648.py:3: PerformanceWarning: DataFrame is highly fragmented.  This is usually the result of calling `frame.insert` many times, which has poor performance.  Consider joining all columns at once using pd.concat(axis=1) instead. To get a de-fragmented frame, use `newframe = frame.copy()`\n",
      "  super_powers_df[col] = super_powers_df['Powers'].str.contains(col)\n",
      "C:\\Users\\oneda\\AppData\\Local\\Temp\\ipykernel_2400\\2407499648.py:3: PerformanceWarning: DataFrame is highly fragmented.  This is usually the result of calling `frame.insert` many times, which has poor performance.  Consider joining all columns at once using pd.concat(axis=1) instead. To get a de-fragmented frame, use `newframe = frame.copy()`\n",
      "  super_powers_df[col] = super_powers_df['Powers'].str.contains(col)\n",
      "C:\\Users\\oneda\\AppData\\Local\\Temp\\ipykernel_2400\\2407499648.py:3: PerformanceWarning: DataFrame is highly fragmented.  This is usually the result of calling `frame.insert` many times, which has poor performance.  Consider joining all columns at once using pd.concat(axis=1) instead. To get a de-fragmented frame, use `newframe = frame.copy()`\n",
      "  super_powers_df[col] = super_powers_df['Powers'].str.contains(col)\n",
      "C:\\Users\\oneda\\AppData\\Local\\Temp\\ipykernel_2400\\2407499648.py:3: PerformanceWarning: DataFrame is highly fragmented.  This is usually the result of calling `frame.insert` many times, which has poor performance.  Consider joining all columns at once using pd.concat(axis=1) instead. To get a de-fragmented frame, use `newframe = frame.copy()`\n",
      "  super_powers_df[col] = super_powers_df['Powers'].str.contains(col)\n",
      "C:\\Users\\oneda\\AppData\\Local\\Temp\\ipykernel_2400\\2407499648.py:3: PerformanceWarning: DataFrame is highly fragmented.  This is usually the result of calling `frame.insert` many times, which has poor performance.  Consider joining all columns at once using pd.concat(axis=1) instead. To get a de-fragmented frame, use `newframe = frame.copy()`\n",
      "  super_powers_df[col] = super_powers_df['Powers'].str.contains(col)\n",
      "C:\\Users\\oneda\\AppData\\Local\\Temp\\ipykernel_2400\\2407499648.py:3: PerformanceWarning: DataFrame is highly fragmented.  This is usually the result of calling `frame.insert` many times, which has poor performance.  Consider joining all columns at once using pd.concat(axis=1) instead. To get a de-fragmented frame, use `newframe = frame.copy()`\n",
      "  super_powers_df[col] = super_powers_df['Powers'].str.contains(col)\n",
      "C:\\Users\\oneda\\AppData\\Local\\Temp\\ipykernel_2400\\2407499648.py:3: PerformanceWarning: DataFrame is highly fragmented.  This is usually the result of calling `frame.insert` many times, which has poor performance.  Consider joining all columns at once using pd.concat(axis=1) instead. To get a de-fragmented frame, use `newframe = frame.copy()`\n",
      "  super_powers_df[col] = super_powers_df['Powers'].str.contains(col)\n",
      "C:\\Users\\oneda\\AppData\\Local\\Temp\\ipykernel_2400\\2407499648.py:3: PerformanceWarning: DataFrame is highly fragmented.  This is usually the result of calling `frame.insert` many times, which has poor performance.  Consider joining all columns at once using pd.concat(axis=1) instead. To get a de-fragmented frame, use `newframe = frame.copy()`\n",
      "  super_powers_df[col] = super_powers_df['Powers'].str.contains(col)\n",
      "C:\\Users\\oneda\\AppData\\Local\\Temp\\ipykernel_2400\\2407499648.py:3: PerformanceWarning: DataFrame is highly fragmented.  This is usually the result of calling `frame.insert` many times, which has poor performance.  Consider joining all columns at once using pd.concat(axis=1) instead. To get a de-fragmented frame, use `newframe = frame.copy()`\n",
      "  super_powers_df[col] = super_powers_df['Powers'].str.contains(col)\n",
      "C:\\Users\\oneda\\AppData\\Local\\Temp\\ipykernel_2400\\2407499648.py:3: PerformanceWarning: DataFrame is highly fragmented.  This is usually the result of calling `frame.insert` many times, which has poor performance.  Consider joining all columns at once using pd.concat(axis=1) instead. To get a de-fragmented frame, use `newframe = frame.copy()`\n",
      "  super_powers_df[col] = super_powers_df['Powers'].str.contains(col)\n",
      "C:\\Users\\oneda\\AppData\\Local\\Temp\\ipykernel_2400\\2407499648.py:3: PerformanceWarning: DataFrame is highly fragmented.  This is usually the result of calling `frame.insert` many times, which has poor performance.  Consider joining all columns at once using pd.concat(axis=1) instead. To get a de-fragmented frame, use `newframe = frame.copy()`\n",
      "  super_powers_df[col] = super_powers_df['Powers'].str.contains(col)\n",
      "C:\\Users\\oneda\\AppData\\Local\\Temp\\ipykernel_2400\\2407499648.py:3: PerformanceWarning: DataFrame is highly fragmented.  This is usually the result of calling `frame.insert` many times, which has poor performance.  Consider joining all columns at once using pd.concat(axis=1) instead. To get a de-fragmented frame, use `newframe = frame.copy()`\n",
      "  super_powers_df[col] = super_powers_df['Powers'].str.contains(col)\n",
      "C:\\Users\\oneda\\AppData\\Local\\Temp\\ipykernel_2400\\2407499648.py:3: PerformanceWarning: DataFrame is highly fragmented.  This is usually the result of calling `frame.insert` many times, which has poor performance.  Consider joining all columns at once using pd.concat(axis=1) instead. To get a de-fragmented frame, use `newframe = frame.copy()`\n",
      "  super_powers_df[col] = super_powers_df['Powers'].str.contains(col)\n",
      "C:\\Users\\oneda\\AppData\\Local\\Temp\\ipykernel_2400\\2407499648.py:3: PerformanceWarning: DataFrame is highly fragmented.  This is usually the result of calling `frame.insert` many times, which has poor performance.  Consider joining all columns at once using pd.concat(axis=1) instead. To get a de-fragmented frame, use `newframe = frame.copy()`\n",
      "  super_powers_df[col] = super_powers_df['Powers'].str.contains(col)\n",
      "C:\\Users\\oneda\\AppData\\Local\\Temp\\ipykernel_2400\\2407499648.py:3: PerformanceWarning: DataFrame is highly fragmented.  This is usually the result of calling `frame.insert` many times, which has poor performance.  Consider joining all columns at once using pd.concat(axis=1) instead. To get a de-fragmented frame, use `newframe = frame.copy()`\n",
      "  super_powers_df[col] = super_powers_df['Powers'].str.contains(col)\n",
      "C:\\Users\\oneda\\AppData\\Local\\Temp\\ipykernel_2400\\2407499648.py:3: PerformanceWarning: DataFrame is highly fragmented.  This is usually the result of calling `frame.insert` many times, which has poor performance.  Consider joining all columns at once using pd.concat(axis=1) instead. To get a de-fragmented frame, use `newframe = frame.copy()`\n",
      "  super_powers_df[col] = super_powers_df['Powers'].str.contains(col)\n",
      "C:\\Users\\oneda\\AppData\\Local\\Temp\\ipykernel_2400\\2407499648.py:3: PerformanceWarning: DataFrame is highly fragmented.  This is usually the result of calling `frame.insert` many times, which has poor performance.  Consider joining all columns at once using pd.concat(axis=1) instead. To get a de-fragmented frame, use `newframe = frame.copy()`\n",
      "  super_powers_df[col] = super_powers_df['Powers'].str.contains(col)\n",
      "C:\\Users\\oneda\\AppData\\Local\\Temp\\ipykernel_2400\\2407499648.py:3: PerformanceWarning: DataFrame is highly fragmented.  This is usually the result of calling `frame.insert` many times, which has poor performance.  Consider joining all columns at once using pd.concat(axis=1) instead. To get a de-fragmented frame, use `newframe = frame.copy()`\n",
      "  super_powers_df[col] = super_powers_df['Powers'].str.contains(col)\n",
      "C:\\Users\\oneda\\AppData\\Local\\Temp\\ipykernel_2400\\2407499648.py:3: PerformanceWarning: DataFrame is highly fragmented.  This is usually the result of calling `frame.insert` many times, which has poor performance.  Consider joining all columns at once using pd.concat(axis=1) instead. To get a de-fragmented frame, use `newframe = frame.copy()`\n",
      "  super_powers_df[col] = super_powers_df['Powers'].str.contains(col)\n",
      "C:\\Users\\oneda\\AppData\\Local\\Temp\\ipykernel_2400\\2407499648.py:3: PerformanceWarning: DataFrame is highly fragmented.  This is usually the result of calling `frame.insert` many times, which has poor performance.  Consider joining all columns at once using pd.concat(axis=1) instead. To get a de-fragmented frame, use `newframe = frame.copy()`\n",
      "  super_powers_df[col] = super_powers_df['Powers'].str.contains(col)\n",
      "C:\\Users\\oneda\\AppData\\Local\\Temp\\ipykernel_2400\\2407499648.py:3: PerformanceWarning: DataFrame is highly fragmented.  This is usually the result of calling `frame.insert` many times, which has poor performance.  Consider joining all columns at once using pd.concat(axis=1) instead. To get a de-fragmented frame, use `newframe = frame.copy()`\n",
      "  super_powers_df[col] = super_powers_df['Powers'].str.contains(col)\n",
      "C:\\Users\\oneda\\AppData\\Local\\Temp\\ipykernel_2400\\2407499648.py:3: PerformanceWarning: DataFrame is highly fragmented.  This is usually the result of calling `frame.insert` many times, which has poor performance.  Consider joining all columns at once using pd.concat(axis=1) instead. To get a de-fragmented frame, use `newframe = frame.copy()`\n",
      "  super_powers_df[col] = super_powers_df['Powers'].str.contains(col)\n",
      "C:\\Users\\oneda\\AppData\\Local\\Temp\\ipykernel_2400\\2407499648.py:3: PerformanceWarning: DataFrame is highly fragmented.  This is usually the result of calling `frame.insert` many times, which has poor performance.  Consider joining all columns at once using pd.concat(axis=1) instead. To get a de-fragmented frame, use `newframe = frame.copy()`\n",
      "  super_powers_df[col] = super_powers_df['Powers'].str.contains(col)\n",
      "C:\\Users\\oneda\\AppData\\Local\\Temp\\ipykernel_2400\\2407499648.py:3: PerformanceWarning: DataFrame is highly fragmented.  This is usually the result of calling `frame.insert` many times, which has poor performance.  Consider joining all columns at once using pd.concat(axis=1) instead. To get a de-fragmented frame, use `newframe = frame.copy()`\n",
      "  super_powers_df[col] = super_powers_df['Powers'].str.contains(col)\n"
     ]
    },
    {
     "name": "stderr",
     "output_type": "stream",
     "text": [
      "C:\\Users\\oneda\\AppData\\Local\\Temp\\ipykernel_2400\\2407499648.py:3: PerformanceWarning: DataFrame is highly fragmented.  This is usually the result of calling `frame.insert` many times, which has poor performance.  Consider joining all columns at once using pd.concat(axis=1) instead. To get a de-fragmented frame, use `newframe = frame.copy()`\n",
      "  super_powers_df[col] = super_powers_df['Powers'].str.contains(col)\n",
      "C:\\Users\\oneda\\AppData\\Local\\Temp\\ipykernel_2400\\2407499648.py:3: PerformanceWarning: DataFrame is highly fragmented.  This is usually the result of calling `frame.insert` many times, which has poor performance.  Consider joining all columns at once using pd.concat(axis=1) instead. To get a de-fragmented frame, use `newframe = frame.copy()`\n",
      "  super_powers_df[col] = super_powers_df['Powers'].str.contains(col)\n",
      "C:\\Users\\oneda\\AppData\\Local\\Temp\\ipykernel_2400\\2407499648.py:3: PerformanceWarning: DataFrame is highly fragmented.  This is usually the result of calling `frame.insert` many times, which has poor performance.  Consider joining all columns at once using pd.concat(axis=1) instead. To get a de-fragmented frame, use `newframe = frame.copy()`\n",
      "  super_powers_df[col] = super_powers_df['Powers'].str.contains(col)\n",
      "C:\\Users\\oneda\\AppData\\Local\\Temp\\ipykernel_2400\\2407499648.py:3: PerformanceWarning: DataFrame is highly fragmented.  This is usually the result of calling `frame.insert` many times, which has poor performance.  Consider joining all columns at once using pd.concat(axis=1) instead. To get a de-fragmented frame, use `newframe = frame.copy()`\n",
      "  super_powers_df[col] = super_powers_df['Powers'].str.contains(col)\n",
      "C:\\Users\\oneda\\AppData\\Local\\Temp\\ipykernel_2400\\2407499648.py:3: PerformanceWarning: DataFrame is highly fragmented.  This is usually the result of calling `frame.insert` many times, which has poor performance.  Consider joining all columns at once using pd.concat(axis=1) instead. To get a de-fragmented frame, use `newframe = frame.copy()`\n",
      "  super_powers_df[col] = super_powers_df['Powers'].str.contains(col)\n",
      "C:\\Users\\oneda\\AppData\\Local\\Temp\\ipykernel_2400\\2407499648.py:3: PerformanceWarning: DataFrame is highly fragmented.  This is usually the result of calling `frame.insert` many times, which has poor performance.  Consider joining all columns at once using pd.concat(axis=1) instead. To get a de-fragmented frame, use `newframe = frame.copy()`\n",
      "  super_powers_df[col] = super_powers_df['Powers'].str.contains(col)\n",
      "C:\\Users\\oneda\\AppData\\Local\\Temp\\ipykernel_2400\\2407499648.py:3: PerformanceWarning: DataFrame is highly fragmented.  This is usually the result of calling `frame.insert` many times, which has poor performance.  Consider joining all columns at once using pd.concat(axis=1) instead. To get a de-fragmented frame, use `newframe = frame.copy()`\n",
      "  super_powers_df[col] = super_powers_df['Powers'].str.contains(col)\n",
      "C:\\Users\\oneda\\AppData\\Local\\Temp\\ipykernel_2400\\2407499648.py:3: PerformanceWarning: DataFrame is highly fragmented.  This is usually the result of calling `frame.insert` many times, which has poor performance.  Consider joining all columns at once using pd.concat(axis=1) instead. To get a de-fragmented frame, use `newframe = frame.copy()`\n",
      "  super_powers_df[col] = super_powers_df['Powers'].str.contains(col)\n",
      "C:\\Users\\oneda\\AppData\\Local\\Temp\\ipykernel_2400\\2407499648.py:3: PerformanceWarning: DataFrame is highly fragmented.  This is usually the result of calling `frame.insert` many times, which has poor performance.  Consider joining all columns at once using pd.concat(axis=1) instead. To get a de-fragmented frame, use `newframe = frame.copy()`\n",
      "  super_powers_df[col] = super_powers_df['Powers'].str.contains(col)\n",
      "C:\\Users\\oneda\\AppData\\Local\\Temp\\ipykernel_2400\\2407499648.py:3: PerformanceWarning: DataFrame is highly fragmented.  This is usually the result of calling `frame.insert` many times, which has poor performance.  Consider joining all columns at once using pd.concat(axis=1) instead. To get a de-fragmented frame, use `newframe = frame.copy()`\n",
      "  super_powers_df[col] = super_powers_df['Powers'].str.contains(col)\n",
      "C:\\Users\\oneda\\AppData\\Local\\Temp\\ipykernel_2400\\2407499648.py:3: PerformanceWarning: DataFrame is highly fragmented.  This is usually the result of calling `frame.insert` many times, which has poor performance.  Consider joining all columns at once using pd.concat(axis=1) instead. To get a de-fragmented frame, use `newframe = frame.copy()`\n",
      "  super_powers_df[col] = super_powers_df['Powers'].str.contains(col)\n",
      "C:\\Users\\oneda\\AppData\\Local\\Temp\\ipykernel_2400\\2407499648.py:3: PerformanceWarning: DataFrame is highly fragmented.  This is usually the result of calling `frame.insert` many times, which has poor performance.  Consider joining all columns at once using pd.concat(axis=1) instead. To get a de-fragmented frame, use `newframe = frame.copy()`\n",
      "  super_powers_df[col] = super_powers_df['Powers'].str.contains(col)\n",
      "C:\\Users\\oneda\\AppData\\Local\\Temp\\ipykernel_2400\\2407499648.py:3: PerformanceWarning: DataFrame is highly fragmented.  This is usually the result of calling `frame.insert` many times, which has poor performance.  Consider joining all columns at once using pd.concat(axis=1) instead. To get a de-fragmented frame, use `newframe = frame.copy()`\n",
      "  super_powers_df[col] = super_powers_df['Powers'].str.contains(col)\n",
      "C:\\Users\\oneda\\AppData\\Local\\Temp\\ipykernel_2400\\2407499648.py:3: PerformanceWarning: DataFrame is highly fragmented.  This is usually the result of calling `frame.insert` many times, which has poor performance.  Consider joining all columns at once using pd.concat(axis=1) instead. To get a de-fragmented frame, use `newframe = frame.copy()`\n",
      "  super_powers_df[col] = super_powers_df['Powers'].str.contains(col)\n",
      "C:\\Users\\oneda\\AppData\\Local\\Temp\\ipykernel_2400\\2407499648.py:3: PerformanceWarning: DataFrame is highly fragmented.  This is usually the result of calling `frame.insert` many times, which has poor performance.  Consider joining all columns at once using pd.concat(axis=1) instead. To get a de-fragmented frame, use `newframe = frame.copy()`\n",
      "  super_powers_df[col] = super_powers_df['Powers'].str.contains(col)\n",
      "C:\\Users\\oneda\\AppData\\Local\\Temp\\ipykernel_2400\\2407499648.py:3: PerformanceWarning: DataFrame is highly fragmented.  This is usually the result of calling `frame.insert` many times, which has poor performance.  Consider joining all columns at once using pd.concat(axis=1) instead. To get a de-fragmented frame, use `newframe = frame.copy()`\n",
      "  super_powers_df[col] = super_powers_df['Powers'].str.contains(col)\n",
      "C:\\Users\\oneda\\AppData\\Local\\Temp\\ipykernel_2400\\2407499648.py:3: PerformanceWarning: DataFrame is highly fragmented.  This is usually the result of calling `frame.insert` many times, which has poor performance.  Consider joining all columns at once using pd.concat(axis=1) instead. To get a de-fragmented frame, use `newframe = frame.copy()`\n",
      "  super_powers_df[col] = super_powers_df['Powers'].str.contains(col)\n",
      "C:\\Users\\oneda\\AppData\\Local\\Temp\\ipykernel_2400\\2407499648.py:3: PerformanceWarning: DataFrame is highly fragmented.  This is usually the result of calling `frame.insert` many times, which has poor performance.  Consider joining all columns at once using pd.concat(axis=1) instead. To get a de-fragmented frame, use `newframe = frame.copy()`\n",
      "  super_powers_df[col] = super_powers_df['Powers'].str.contains(col)\n",
      "C:\\Users\\oneda\\AppData\\Local\\Temp\\ipykernel_2400\\2407499648.py:3: PerformanceWarning: DataFrame is highly fragmented.  This is usually the result of calling `frame.insert` many times, which has poor performance.  Consider joining all columns at once using pd.concat(axis=1) instead. To get a de-fragmented frame, use `newframe = frame.copy()`\n",
      "  super_powers_df[col] = super_powers_df['Powers'].str.contains(col)\n",
      "C:\\Users\\oneda\\AppData\\Local\\Temp\\ipykernel_2400\\2407499648.py:3: PerformanceWarning: DataFrame is highly fragmented.  This is usually the result of calling `frame.insert` many times, which has poor performance.  Consider joining all columns at once using pd.concat(axis=1) instead. To get a de-fragmented frame, use `newframe = frame.copy()`\n",
      "  super_powers_df[col] = super_powers_df['Powers'].str.contains(col)\n",
      "C:\\Users\\oneda\\AppData\\Local\\Temp\\ipykernel_2400\\2407499648.py:3: PerformanceWarning: DataFrame is highly fragmented.  This is usually the result of calling `frame.insert` many times, which has poor performance.  Consider joining all columns at once using pd.concat(axis=1) instead. To get a de-fragmented frame, use `newframe = frame.copy()`\n",
      "  super_powers_df[col] = super_powers_df['Powers'].str.contains(col)\n",
      "C:\\Users\\oneda\\AppData\\Local\\Temp\\ipykernel_2400\\2407499648.py:3: PerformanceWarning: DataFrame is highly fragmented.  This is usually the result of calling `frame.insert` many times, which has poor performance.  Consider joining all columns at once using pd.concat(axis=1) instead. To get a de-fragmented frame, use `newframe = frame.copy()`\n",
      "  super_powers_df[col] = super_powers_df['Powers'].str.contains(col)\n",
      "C:\\Users\\oneda\\AppData\\Local\\Temp\\ipykernel_2400\\2407499648.py:3: PerformanceWarning: DataFrame is highly fragmented.  This is usually the result of calling `frame.insert` many times, which has poor performance.  Consider joining all columns at once using pd.concat(axis=1) instead. To get a de-fragmented frame, use `newframe = frame.copy()`\n",
      "  super_powers_df[col] = super_powers_df['Powers'].str.contains(col)\n",
      "C:\\Users\\oneda\\AppData\\Local\\Temp\\ipykernel_2400\\2407499648.py:3: PerformanceWarning: DataFrame is highly fragmented.  This is usually the result of calling `frame.insert` many times, which has poor performance.  Consider joining all columns at once using pd.concat(axis=1) instead. To get a de-fragmented frame, use `newframe = frame.copy()`\n",
      "  super_powers_df[col] = super_powers_df['Powers'].str.contains(col)\n",
      "C:\\Users\\oneda\\AppData\\Local\\Temp\\ipykernel_2400\\2407499648.py:3: PerformanceWarning: DataFrame is highly fragmented.  This is usually the result of calling `frame.insert` many times, which has poor performance.  Consider joining all columns at once using pd.concat(axis=1) instead. To get a de-fragmented frame, use `newframe = frame.copy()`\n",
      "  super_powers_df[col] = super_powers_df['Powers'].str.contains(col)\n",
      "C:\\Users\\oneda\\AppData\\Local\\Temp\\ipykernel_2400\\2407499648.py:3: PerformanceWarning: DataFrame is highly fragmented.  This is usually the result of calling `frame.insert` many times, which has poor performance.  Consider joining all columns at once using pd.concat(axis=1) instead. To get a de-fragmented frame, use `newframe = frame.copy()`\n",
      "  super_powers_df[col] = super_powers_df['Powers'].str.contains(col)\n",
      "C:\\Users\\oneda\\AppData\\Local\\Temp\\ipykernel_2400\\2407499648.py:3: PerformanceWarning: DataFrame is highly fragmented.  This is usually the result of calling `frame.insert` many times, which has poor performance.  Consider joining all columns at once using pd.concat(axis=1) instead. To get a de-fragmented frame, use `newframe = frame.copy()`\n",
      "  super_powers_df[col] = super_powers_df['Powers'].str.contains(col)\n",
      "C:\\Users\\oneda\\AppData\\Local\\Temp\\ipykernel_2400\\2407499648.py:3: PerformanceWarning: DataFrame is highly fragmented.  This is usually the result of calling `frame.insert` many times, which has poor performance.  Consider joining all columns at once using pd.concat(axis=1) instead. To get a de-fragmented frame, use `newframe = frame.copy()`\n",
      "  super_powers_df[col] = super_powers_df['Powers'].str.contains(col)\n",
      "C:\\Users\\oneda\\AppData\\Local\\Temp\\ipykernel_2400\\2407499648.py:3: PerformanceWarning: DataFrame is highly fragmented.  This is usually the result of calling `frame.insert` many times, which has poor performance.  Consider joining all columns at once using pd.concat(axis=1) instead. To get a de-fragmented frame, use `newframe = frame.copy()`\n",
      "  super_powers_df[col] = super_powers_df['Powers'].str.contains(col)\n",
      "C:\\Users\\oneda\\AppData\\Local\\Temp\\ipykernel_2400\\2407499648.py:3: PerformanceWarning: DataFrame is highly fragmented.  This is usually the result of calling `frame.insert` many times, which has poor performance.  Consider joining all columns at once using pd.concat(axis=1) instead. To get a de-fragmented frame, use `newframe = frame.copy()`\n",
      "  super_powers_df[col] = super_powers_df['Powers'].str.contains(col)\n"
     ]
    },
    {
     "name": "stderr",
     "output_type": "stream",
     "text": [
      "C:\\Users\\oneda\\AppData\\Local\\Temp\\ipykernel_2400\\2407499648.py:3: PerformanceWarning: DataFrame is highly fragmented.  This is usually the result of calling `frame.insert` many times, which has poor performance.  Consider joining all columns at once using pd.concat(axis=1) instead. To get a de-fragmented frame, use `newframe = frame.copy()`\n",
      "  super_powers_df[col] = super_powers_df['Powers'].str.contains(col)\n",
      "C:\\Users\\oneda\\AppData\\Local\\Temp\\ipykernel_2400\\2407499648.py:3: PerformanceWarning: DataFrame is highly fragmented.  This is usually the result of calling `frame.insert` many times, which has poor performance.  Consider joining all columns at once using pd.concat(axis=1) instead. To get a de-fragmented frame, use `newframe = frame.copy()`\n",
      "  super_powers_df[col] = super_powers_df['Powers'].str.contains(col)\n",
      "C:\\Users\\oneda\\AppData\\Local\\Temp\\ipykernel_2400\\2407499648.py:3: PerformanceWarning: DataFrame is highly fragmented.  This is usually the result of calling `frame.insert` many times, which has poor performance.  Consider joining all columns at once using pd.concat(axis=1) instead. To get a de-fragmented frame, use `newframe = frame.copy()`\n",
      "  super_powers_df[col] = super_powers_df['Powers'].str.contains(col)\n",
      "C:\\Users\\oneda\\AppData\\Local\\Temp\\ipykernel_2400\\2407499648.py:3: PerformanceWarning: DataFrame is highly fragmented.  This is usually the result of calling `frame.insert` many times, which has poor performance.  Consider joining all columns at once using pd.concat(axis=1) instead. To get a de-fragmented frame, use `newframe = frame.copy()`\n",
      "  super_powers_df[col] = super_powers_df['Powers'].str.contains(col)\n",
      "C:\\Users\\oneda\\AppData\\Local\\Temp\\ipykernel_2400\\2407499648.py:3: PerformanceWarning: DataFrame is highly fragmented.  This is usually the result of calling `frame.insert` many times, which has poor performance.  Consider joining all columns at once using pd.concat(axis=1) instead. To get a de-fragmented frame, use `newframe = frame.copy()`\n",
      "  super_powers_df[col] = super_powers_df['Powers'].str.contains(col)\n",
      "C:\\Users\\oneda\\AppData\\Local\\Temp\\ipykernel_2400\\2407499648.py:3: PerformanceWarning: DataFrame is highly fragmented.  This is usually the result of calling `frame.insert` many times, which has poor performance.  Consider joining all columns at once using pd.concat(axis=1) instead. To get a de-fragmented frame, use `newframe = frame.copy()`\n",
      "  super_powers_df[col] = super_powers_df['Powers'].str.contains(col)\n",
      "C:\\Users\\oneda\\AppData\\Local\\Temp\\ipykernel_2400\\2407499648.py:3: PerformanceWarning: DataFrame is highly fragmented.  This is usually the result of calling `frame.insert` many times, which has poor performance.  Consider joining all columns at once using pd.concat(axis=1) instead. To get a de-fragmented frame, use `newframe = frame.copy()`\n",
      "  super_powers_df[col] = super_powers_df['Powers'].str.contains(col)\n",
      "C:\\Users\\oneda\\AppData\\Local\\Temp\\ipykernel_2400\\2407499648.py:3: PerformanceWarning: DataFrame is highly fragmented.  This is usually the result of calling `frame.insert` many times, which has poor performance.  Consider joining all columns at once using pd.concat(axis=1) instead. To get a de-fragmented frame, use `newframe = frame.copy()`\n",
      "  super_powers_df[col] = super_powers_df['Powers'].str.contains(col)\n",
      "C:\\Users\\oneda\\AppData\\Local\\Temp\\ipykernel_2400\\2407499648.py:3: PerformanceWarning: DataFrame is highly fragmented.  This is usually the result of calling `frame.insert` many times, which has poor performance.  Consider joining all columns at once using pd.concat(axis=1) instead. To get a de-fragmented frame, use `newframe = frame.copy()`\n",
      "  super_powers_df[col] = super_powers_df['Powers'].str.contains(col)\n",
      "C:\\Users\\oneda\\AppData\\Local\\Temp\\ipykernel_2400\\2407499648.py:3: PerformanceWarning: DataFrame is highly fragmented.  This is usually the result of calling `frame.insert` many times, which has poor performance.  Consider joining all columns at once using pd.concat(axis=1) instead. To get a de-fragmented frame, use `newframe = frame.copy()`\n",
      "  super_powers_df[col] = super_powers_df['Powers'].str.contains(col)\n"
     ]
    },
    {
     "data": {
      "text/html": [
       "<div>\n",
       "<style scoped>\n",
       "    .dataframe tbody tr th:only-of-type {\n",
       "        vertical-align: middle;\n",
       "    }\n",
       "\n",
       "    .dataframe tbody tr th {\n",
       "        vertical-align: top;\n",
       "    }\n",
       "\n",
       "    .dataframe thead th {\n",
       "        text-align: right;\n",
       "    }\n",
       "</style>\n",
       "<table border=\"1\" class=\"dataframe\">\n",
       "  <thead>\n",
       "    <tr style=\"text-align: right;\">\n",
       "      <th></th>\n",
       "      <th>hero_names</th>\n",
       "      <th>Powers</th>\n",
       "      <th>Powers_Split</th>\n",
       "      <th>Agility</th>\n",
       "      <th>Super Strength</th>\n",
       "      <th>Stamina</th>\n",
       "      <th>Super Speed</th>\n",
       "      <th>Accelerated Healing</th>\n",
       "      <th>Durability</th>\n",
       "      <th>Longevity</th>\n",
       "      <th>...</th>\n",
       "      <th>Weather Control</th>\n",
       "      <th>Omnipresent</th>\n",
       "      <th>Omniscient</th>\n",
       "      <th>Hair Manipulation</th>\n",
       "      <th>Nova Force</th>\n",
       "      <th>Odin Force</th>\n",
       "      <th>Phoenix Force</th>\n",
       "      <th>Intuitive aptitude</th>\n",
       "      <th>Melting</th>\n",
       "      <th>Changing Armor</th>\n",
       "    </tr>\n",
       "  </thead>\n",
       "  <tbody>\n",
       "    <tr>\n",
       "      <th>0</th>\n",
       "      <td>3-D Man</td>\n",
       "      <td>Agility,Super Strength,Stamina,Super Speed</td>\n",
       "      <td>[Agility, Super Strength, Stamina, Super Speed]</td>\n",
       "      <td>True</td>\n",
       "      <td>True</td>\n",
       "      <td>True</td>\n",
       "      <td>True</td>\n",
       "      <td>False</td>\n",
       "      <td>False</td>\n",
       "      <td>False</td>\n",
       "      <td>...</td>\n",
       "      <td>False</td>\n",
       "      <td>False</td>\n",
       "      <td>False</td>\n",
       "      <td>False</td>\n",
       "      <td>False</td>\n",
       "      <td>False</td>\n",
       "      <td>False</td>\n",
       "      <td>False</td>\n",
       "      <td>False</td>\n",
       "      <td>False</td>\n",
       "    </tr>\n",
       "    <tr>\n",
       "      <th>1</th>\n",
       "      <td>A-Bomb</td>\n",
       "      <td>Accelerated Healing,Durability,Longevity,Super...</td>\n",
       "      <td>[Accelerated Healing, Durability, Longevity, S...</td>\n",
       "      <td>False</td>\n",
       "      <td>True</td>\n",
       "      <td>True</td>\n",
       "      <td>False</td>\n",
       "      <td>True</td>\n",
       "      <td>True</td>\n",
       "      <td>True</td>\n",
       "      <td>...</td>\n",
       "      <td>False</td>\n",
       "      <td>False</td>\n",
       "      <td>False</td>\n",
       "      <td>False</td>\n",
       "      <td>False</td>\n",
       "      <td>False</td>\n",
       "      <td>False</td>\n",
       "      <td>False</td>\n",
       "      <td>False</td>\n",
       "      <td>False</td>\n",
       "    </tr>\n",
       "    <tr>\n",
       "      <th>2</th>\n",
       "      <td>Abe Sapien</td>\n",
       "      <td>Agility,Accelerated Healing,Cold Resistance,Du...</td>\n",
       "      <td>[Agility, Accelerated Healing, Cold Resistance...</td>\n",
       "      <td>True</td>\n",
       "      <td>True</td>\n",
       "      <td>True</td>\n",
       "      <td>False</td>\n",
       "      <td>True</td>\n",
       "      <td>True</td>\n",
       "      <td>True</td>\n",
       "      <td>...</td>\n",
       "      <td>False</td>\n",
       "      <td>False</td>\n",
       "      <td>False</td>\n",
       "      <td>False</td>\n",
       "      <td>False</td>\n",
       "      <td>False</td>\n",
       "      <td>False</td>\n",
       "      <td>False</td>\n",
       "      <td>False</td>\n",
       "      <td>False</td>\n",
       "    </tr>\n",
       "    <tr>\n",
       "      <th>3</th>\n",
       "      <td>Abin Sur</td>\n",
       "      <td>Lantern Power Ring</td>\n",
       "      <td>[Lantern Power Ring]</td>\n",
       "      <td>False</td>\n",
       "      <td>False</td>\n",
       "      <td>False</td>\n",
       "      <td>False</td>\n",
       "      <td>False</td>\n",
       "      <td>False</td>\n",
       "      <td>False</td>\n",
       "      <td>...</td>\n",
       "      <td>False</td>\n",
       "      <td>False</td>\n",
       "      <td>False</td>\n",
       "      <td>False</td>\n",
       "      <td>False</td>\n",
       "      <td>False</td>\n",
       "      <td>False</td>\n",
       "      <td>False</td>\n",
       "      <td>False</td>\n",
       "      <td>False</td>\n",
       "    </tr>\n",
       "    <tr>\n",
       "      <th>4</th>\n",
       "      <td>Abomination</td>\n",
       "      <td>Accelerated Healing,Intelligence,Super Strengt...</td>\n",
       "      <td>[Accelerated Healing, Intelligence, Super Stre...</td>\n",
       "      <td>False</td>\n",
       "      <td>True</td>\n",
       "      <td>True</td>\n",
       "      <td>True</td>\n",
       "      <td>True</td>\n",
       "      <td>False</td>\n",
       "      <td>False</td>\n",
       "      <td>...</td>\n",
       "      <td>False</td>\n",
       "      <td>False</td>\n",
       "      <td>False</td>\n",
       "      <td>False</td>\n",
       "      <td>False</td>\n",
       "      <td>False</td>\n",
       "      <td>False</td>\n",
       "      <td>False</td>\n",
       "      <td>False</td>\n",
       "      <td>False</td>\n",
       "    </tr>\n",
       "  </tbody>\n",
       "</table>\n",
       "<p>5 rows × 170 columns</p>\n",
       "</div>"
      ],
      "text/plain": [
       "    hero_names                                             Powers  \\\n",
       "0      3-D Man         Agility,Super Strength,Stamina,Super Speed   \n",
       "1       A-Bomb  Accelerated Healing,Durability,Longevity,Super...   \n",
       "2   Abe Sapien  Agility,Accelerated Healing,Cold Resistance,Du...   \n",
       "3     Abin Sur                                 Lantern Power Ring   \n",
       "4  Abomination  Accelerated Healing,Intelligence,Super Strengt...   \n",
       "\n",
       "                                        Powers_Split  Agility  Super Strength  \\\n",
       "0    [Agility, Super Strength, Stamina, Super Speed]     True            True   \n",
       "1  [Accelerated Healing, Durability, Longevity, S...    False            True   \n",
       "2  [Agility, Accelerated Healing, Cold Resistance...     True            True   \n",
       "3                               [Lantern Power Ring]    False           False   \n",
       "4  [Accelerated Healing, Intelligence, Super Stre...    False            True   \n",
       "\n",
       "   Stamina  Super Speed  Accelerated Healing  Durability  Longevity  ...  \\\n",
       "0     True         True                False       False      False  ...   \n",
       "1     True        False                 True        True       True  ...   \n",
       "2     True        False                 True        True       True  ...   \n",
       "3    False        False                False       False      False  ...   \n",
       "4     True         True                 True       False      False  ...   \n",
       "\n",
       "   Weather Control  Omnipresent  Omniscient  Hair Manipulation  Nova Force  \\\n",
       "0            False        False       False              False       False   \n",
       "1            False        False       False              False       False   \n",
       "2            False        False       False              False       False   \n",
       "3            False        False       False              False       False   \n",
       "4            False        False       False              False       False   \n",
       "\n",
       "   Odin Force  Phoenix Force  Intuitive aptitude  Melting  Changing Armor  \n",
       "0       False          False               False    False           False  \n",
       "1       False          False               False    False           False  \n",
       "2       False          False               False    False           False  \n",
       "3       False          False               False    False           False  \n",
       "4       False          False               False    False           False  \n",
       "\n",
       "[5 rows x 170 columns]"
      ]
     },
     "execution_count": 32,
     "metadata": {},
     "output_type": "execute_result"
    }
   ],
   "source": [
    "# using a For Loop and .str.contains to create the new columns\n",
    "for col in cols_to_make:\n",
    "    super_powers_df[col] = super_powers_df['Powers'].str.contains(col)\n",
    "super_powers_df.head()"
   ]
  },
  {
   "cell_type": "markdown",
   "id": "592bad77",
   "metadata": {},
   "source": [
    "Success!"
   ]
  },
  {
   "cell_type": "code",
   "execution_count": 33,
   "id": "53dfa66a",
   "metadata": {},
   "outputs": [
    {
     "data": {
      "text/html": [
       "<div>\n",
       "<style scoped>\n",
       "    .dataframe tbody tr th:only-of-type {\n",
       "        vertical-align: middle;\n",
       "    }\n",
       "\n",
       "    .dataframe tbody tr th {\n",
       "        vertical-align: top;\n",
       "    }\n",
       "\n",
       "    .dataframe thead th {\n",
       "        text-align: right;\n",
       "    }\n",
       "</style>\n",
       "<table border=\"1\" class=\"dataframe\">\n",
       "  <thead>\n",
       "    <tr style=\"text-align: right;\">\n",
       "      <th></th>\n",
       "      <th>hero_names</th>\n",
       "      <th>Powers</th>\n",
       "      <th>Powers_Split</th>\n",
       "      <th>Agility</th>\n",
       "      <th>Super Strength</th>\n",
       "      <th>Stamina</th>\n",
       "      <th>Super Speed</th>\n",
       "      <th>Accelerated Healing</th>\n",
       "      <th>Durability</th>\n",
       "      <th>Longevity</th>\n",
       "      <th>...</th>\n",
       "      <th>Weather Control</th>\n",
       "      <th>Omnipresent</th>\n",
       "      <th>Omniscient</th>\n",
       "      <th>Hair Manipulation</th>\n",
       "      <th>Nova Force</th>\n",
       "      <th>Odin Force</th>\n",
       "      <th>Phoenix Force</th>\n",
       "      <th>Intuitive aptitude</th>\n",
       "      <th>Melting</th>\n",
       "      <th>Changing Armor</th>\n",
       "    </tr>\n",
       "  </thead>\n",
       "  <tbody>\n",
       "    <tr>\n",
       "      <th>0</th>\n",
       "      <td>3-D Man</td>\n",
       "      <td>Agility,Super Strength,Stamina,Super Speed</td>\n",
       "      <td>[Agility, Super Strength, Stamina, Super Speed]</td>\n",
       "      <td>True</td>\n",
       "      <td>True</td>\n",
       "      <td>True</td>\n",
       "      <td>True</td>\n",
       "      <td>False</td>\n",
       "      <td>False</td>\n",
       "      <td>False</td>\n",
       "      <td>...</td>\n",
       "      <td>False</td>\n",
       "      <td>False</td>\n",
       "      <td>False</td>\n",
       "      <td>False</td>\n",
       "      <td>False</td>\n",
       "      <td>False</td>\n",
       "      <td>False</td>\n",
       "      <td>False</td>\n",
       "      <td>False</td>\n",
       "      <td>False</td>\n",
       "    </tr>\n",
       "    <tr>\n",
       "      <th>1</th>\n",
       "      <td>A-Bomb</td>\n",
       "      <td>Accelerated Healing,Durability,Longevity,Super...</td>\n",
       "      <td>[Accelerated Healing, Durability, Longevity, S...</td>\n",
       "      <td>False</td>\n",
       "      <td>True</td>\n",
       "      <td>True</td>\n",
       "      <td>False</td>\n",
       "      <td>True</td>\n",
       "      <td>True</td>\n",
       "      <td>True</td>\n",
       "      <td>...</td>\n",
       "      <td>False</td>\n",
       "      <td>False</td>\n",
       "      <td>False</td>\n",
       "      <td>False</td>\n",
       "      <td>False</td>\n",
       "      <td>False</td>\n",
       "      <td>False</td>\n",
       "      <td>False</td>\n",
       "      <td>False</td>\n",
       "      <td>False</td>\n",
       "    </tr>\n",
       "    <tr>\n",
       "      <th>2</th>\n",
       "      <td>Abe Sapien</td>\n",
       "      <td>Agility,Accelerated Healing,Cold Resistance,Du...</td>\n",
       "      <td>[Agility, Accelerated Healing, Cold Resistance...</td>\n",
       "      <td>True</td>\n",
       "      <td>True</td>\n",
       "      <td>True</td>\n",
       "      <td>False</td>\n",
       "      <td>True</td>\n",
       "      <td>True</td>\n",
       "      <td>True</td>\n",
       "      <td>...</td>\n",
       "      <td>False</td>\n",
       "      <td>False</td>\n",
       "      <td>False</td>\n",
       "      <td>False</td>\n",
       "      <td>False</td>\n",
       "      <td>False</td>\n",
       "      <td>False</td>\n",
       "      <td>False</td>\n",
       "      <td>False</td>\n",
       "      <td>False</td>\n",
       "    </tr>\n",
       "    <tr>\n",
       "      <th>3</th>\n",
       "      <td>Abin Sur</td>\n",
       "      <td>Lantern Power Ring</td>\n",
       "      <td>[Lantern Power Ring]</td>\n",
       "      <td>False</td>\n",
       "      <td>False</td>\n",
       "      <td>False</td>\n",
       "      <td>False</td>\n",
       "      <td>False</td>\n",
       "      <td>False</td>\n",
       "      <td>False</td>\n",
       "      <td>...</td>\n",
       "      <td>False</td>\n",
       "      <td>False</td>\n",
       "      <td>False</td>\n",
       "      <td>False</td>\n",
       "      <td>False</td>\n",
       "      <td>False</td>\n",
       "      <td>False</td>\n",
       "      <td>False</td>\n",
       "      <td>False</td>\n",
       "      <td>False</td>\n",
       "    </tr>\n",
       "    <tr>\n",
       "      <th>4</th>\n",
       "      <td>Abomination</td>\n",
       "      <td>Accelerated Healing,Intelligence,Super Strengt...</td>\n",
       "      <td>[Accelerated Healing, Intelligence, Super Stre...</td>\n",
       "      <td>False</td>\n",
       "      <td>True</td>\n",
       "      <td>True</td>\n",
       "      <td>True</td>\n",
       "      <td>True</td>\n",
       "      <td>False</td>\n",
       "      <td>False</td>\n",
       "      <td>...</td>\n",
       "      <td>False</td>\n",
       "      <td>False</td>\n",
       "      <td>False</td>\n",
       "      <td>False</td>\n",
       "      <td>False</td>\n",
       "      <td>False</td>\n",
       "      <td>False</td>\n",
       "      <td>False</td>\n",
       "      <td>False</td>\n",
       "      <td>False</td>\n",
       "    </tr>\n",
       "  </tbody>\n",
       "</table>\n",
       "<p>5 rows × 170 columns</p>\n",
       "</div>"
      ],
      "text/plain": [
       "    hero_names                                             Powers  \\\n",
       "0      3-D Man         Agility,Super Strength,Stamina,Super Speed   \n",
       "1       A-Bomb  Accelerated Healing,Durability,Longevity,Super...   \n",
       "2   Abe Sapien  Agility,Accelerated Healing,Cold Resistance,Du...   \n",
       "3     Abin Sur                                 Lantern Power Ring   \n",
       "4  Abomination  Accelerated Healing,Intelligence,Super Strengt...   \n",
       "\n",
       "                                        Powers_Split  Agility  Super Strength  \\\n",
       "0    [Agility, Super Strength, Stamina, Super Speed]     True            True   \n",
       "1  [Accelerated Healing, Durability, Longevity, S...    False            True   \n",
       "2  [Agility, Accelerated Healing, Cold Resistance...     True            True   \n",
       "3                               [Lantern Power Ring]    False           False   \n",
       "4  [Accelerated Healing, Intelligence, Super Stre...    False            True   \n",
       "\n",
       "   Stamina  Super Speed  Accelerated Healing  Durability  Longevity  ...  \\\n",
       "0     True         True                False       False      False  ...   \n",
       "1     True        False                 True        True       True  ...   \n",
       "2     True        False                 True        True       True  ...   \n",
       "3    False        False                False       False      False  ...   \n",
       "4     True         True                 True       False      False  ...   \n",
       "\n",
       "   Weather Control  Omnipresent  Omniscient  Hair Manipulation  Nova Force  \\\n",
       "0            False        False       False              False       False   \n",
       "1            False        False       False              False       False   \n",
       "2            False        False       False              False       False   \n",
       "3            False        False       False              False       False   \n",
       "4            False        False       False              False       False   \n",
       "\n",
       "   Odin Force  Phoenix Force  Intuitive aptitude  Melting  Changing Armor  \n",
       "0       False          False               False    False           False  \n",
       "1       False          False               False    False           False  \n",
       "2       False          False               False    False           False  \n",
       "3       False          False               False    False           False  \n",
       "4       False          False               False    False           False  \n",
       "\n",
       "[5 rows x 170 columns]"
      ]
     },
     "execution_count": 33,
     "metadata": {},
     "output_type": "execute_result"
    }
   ],
   "source": [
    "# explore super_powers_df to view columns\n",
    "super_powers_df.head()"
   ]
  },
  {
   "cell_type": "code",
   "execution_count": 34,
   "id": "c4bf2934",
   "metadata": {},
   "outputs": [
    {
     "data": {
      "text/html": [
       "<div>\n",
       "<style scoped>\n",
       "    .dataframe tbody tr th:only-of-type {\n",
       "        vertical-align: middle;\n",
       "    }\n",
       "\n",
       "    .dataframe tbody tr th {\n",
       "        vertical-align: top;\n",
       "    }\n",
       "\n",
       "    .dataframe thead th {\n",
       "        text-align: right;\n",
       "    }\n",
       "</style>\n",
       "<table border=\"1\" class=\"dataframe\">\n",
       "  <thead>\n",
       "    <tr style=\"text-align: right;\">\n",
       "      <th></th>\n",
       "      <th>hero_names</th>\n",
       "      <th>Agility</th>\n",
       "      <th>Super Strength</th>\n",
       "      <th>Stamina</th>\n",
       "      <th>Super Speed</th>\n",
       "      <th>Accelerated Healing</th>\n",
       "      <th>Durability</th>\n",
       "      <th>Longevity</th>\n",
       "      <th>Camouflage</th>\n",
       "      <th>Self-Sustenance</th>\n",
       "      <th>...</th>\n",
       "      <th>Weather Control</th>\n",
       "      <th>Omnipresent</th>\n",
       "      <th>Omniscient</th>\n",
       "      <th>Hair Manipulation</th>\n",
       "      <th>Nova Force</th>\n",
       "      <th>Odin Force</th>\n",
       "      <th>Phoenix Force</th>\n",
       "      <th>Intuitive aptitude</th>\n",
       "      <th>Melting</th>\n",
       "      <th>Changing Armor</th>\n",
       "    </tr>\n",
       "  </thead>\n",
       "  <tbody>\n",
       "    <tr>\n",
       "      <th>0</th>\n",
       "      <td>3-D Man</td>\n",
       "      <td>True</td>\n",
       "      <td>True</td>\n",
       "      <td>True</td>\n",
       "      <td>True</td>\n",
       "      <td>False</td>\n",
       "      <td>False</td>\n",
       "      <td>False</td>\n",
       "      <td>False</td>\n",
       "      <td>False</td>\n",
       "      <td>...</td>\n",
       "      <td>False</td>\n",
       "      <td>False</td>\n",
       "      <td>False</td>\n",
       "      <td>False</td>\n",
       "      <td>False</td>\n",
       "      <td>False</td>\n",
       "      <td>False</td>\n",
       "      <td>False</td>\n",
       "      <td>False</td>\n",
       "      <td>False</td>\n",
       "    </tr>\n",
       "    <tr>\n",
       "      <th>1</th>\n",
       "      <td>A-Bomb</td>\n",
       "      <td>False</td>\n",
       "      <td>True</td>\n",
       "      <td>True</td>\n",
       "      <td>False</td>\n",
       "      <td>True</td>\n",
       "      <td>True</td>\n",
       "      <td>True</td>\n",
       "      <td>True</td>\n",
       "      <td>True</td>\n",
       "      <td>...</td>\n",
       "      <td>False</td>\n",
       "      <td>False</td>\n",
       "      <td>False</td>\n",
       "      <td>False</td>\n",
       "      <td>False</td>\n",
       "      <td>False</td>\n",
       "      <td>False</td>\n",
       "      <td>False</td>\n",
       "      <td>False</td>\n",
       "      <td>False</td>\n",
       "    </tr>\n",
       "  </tbody>\n",
       "</table>\n",
       "<p>2 rows × 168 columns</p>\n",
       "</div>"
      ],
      "text/plain": [
       "  hero_names  Agility  Super Strength  Stamina  Super Speed  \\\n",
       "0    3-D Man     True            True     True         True   \n",
       "1     A-Bomb    False            True     True        False   \n",
       "\n",
       "   Accelerated Healing  Durability  Longevity  Camouflage  Self-Sustenance  \\\n",
       "0                False       False      False       False            False   \n",
       "1                 True        True       True        True             True   \n",
       "\n",
       "   ...  Weather Control  Omnipresent  Omniscient  Hair Manipulation  \\\n",
       "0  ...            False        False       False              False   \n",
       "1  ...            False        False       False              False   \n",
       "\n",
       "   Nova Force  Odin Force  Phoenix Force  Intuitive aptitude  Melting  \\\n",
       "0       False       False          False               False    False   \n",
       "1       False       False          False               False    False   \n",
       "\n",
       "   Changing Armor  \n",
       "0           False  \n",
       "1           False  \n",
       "\n",
       "[2 rows x 168 columns]"
      ]
     },
     "execution_count": 34,
     "metadata": {},
     "output_type": "execute_result"
    }
   ],
   "source": [
    "# dropping 'Powers' and 'Powers_Split', not needed\n",
    "super_powers_df.drop(columns = (['Powers', 'Powers_Split']), inplace=True)\n",
    "super_powers_df.head(2)"
   ]
  },
  {
   "cell_type": "markdown",
   "id": "91f6f8c0",
   "metadata": {},
   "source": [
    "# Merge Dataframes"
   ]
  },
  {
   "cell_type": "markdown",
   "id": "b4a42e2c",
   "metadata": {},
   "source": [
    "## Joining Dataframes"
   ]
  },
  {
   "cell_type": "code",
   "execution_count": 35,
   "id": "1f3770ea",
   "metadata": {},
   "outputs": [
    {
     "data": {
      "text/html": [
       "<div>\n",
       "<style scoped>\n",
       "    .dataframe tbody tr th:only-of-type {\n",
       "        vertical-align: middle;\n",
       "    }\n",
       "\n",
       "    .dataframe tbody tr th {\n",
       "        vertical-align: top;\n",
       "    }\n",
       "\n",
       "    .dataframe thead th {\n",
       "        text-align: right;\n",
       "    }\n",
       "</style>\n",
       "<table border=\"1\" class=\"dataframe\">\n",
       "  <thead>\n",
       "    <tr style=\"text-align: right;\">\n",
       "      <th></th>\n",
       "      <th>Gender</th>\n",
       "      <th>Race</th>\n",
       "      <th>Alignment</th>\n",
       "      <th>Hair color</th>\n",
       "      <th>Eye color</th>\n",
       "      <th>Skin color</th>\n",
       "      <th>Hero</th>\n",
       "      <th>Publisher</th>\n",
       "      <th>Height</th>\n",
       "      <th>Weight</th>\n",
       "      <th>...</th>\n",
       "      <th>Weather Control</th>\n",
       "      <th>Omnipresent</th>\n",
       "      <th>Omniscient</th>\n",
       "      <th>Hair Manipulation</th>\n",
       "      <th>Nova Force</th>\n",
       "      <th>Odin Force</th>\n",
       "      <th>Phoenix Force</th>\n",
       "      <th>Intuitive aptitude</th>\n",
       "      <th>Melting</th>\n",
       "      <th>Changing Armor</th>\n",
       "    </tr>\n",
       "  </thead>\n",
       "  <tbody>\n",
       "    <tr>\n",
       "      <th>0</th>\n",
       "      <td>Male</td>\n",
       "      <td>Human</td>\n",
       "      <td>good</td>\n",
       "      <td>No Hair</td>\n",
       "      <td>yellow</td>\n",
       "      <td>Unknown</td>\n",
       "      <td>A-Bomb</td>\n",
       "      <td>Marvel Comics</td>\n",
       "      <td>203.0</td>\n",
       "      <td>441.0</td>\n",
       "      <td>...</td>\n",
       "      <td>False</td>\n",
       "      <td>False</td>\n",
       "      <td>False</td>\n",
       "      <td>False</td>\n",
       "      <td>False</td>\n",
       "      <td>False</td>\n",
       "      <td>False</td>\n",
       "      <td>False</td>\n",
       "      <td>False</td>\n",
       "      <td>False</td>\n",
       "    </tr>\n",
       "    <tr>\n",
       "      <th>1</th>\n",
       "      <td>Male</td>\n",
       "      <td>Icthyo Sapien</td>\n",
       "      <td>good</td>\n",
       "      <td>No Hair</td>\n",
       "      <td>blue</td>\n",
       "      <td>blue</td>\n",
       "      <td>Abe Sapien</td>\n",
       "      <td>Dark Horse Comics</td>\n",
       "      <td>191.0</td>\n",
       "      <td>65.0</td>\n",
       "      <td>...</td>\n",
       "      <td>False</td>\n",
       "      <td>False</td>\n",
       "      <td>False</td>\n",
       "      <td>False</td>\n",
       "      <td>False</td>\n",
       "      <td>False</td>\n",
       "      <td>False</td>\n",
       "      <td>False</td>\n",
       "      <td>False</td>\n",
       "      <td>False</td>\n",
       "    </tr>\n",
       "  </tbody>\n",
       "</table>\n",
       "<p>2 rows × 177 columns</p>\n",
       "</div>"
      ],
      "text/plain": [
       "  Gender           Race Alignment Hair color Eye color Skin color        Hero  \\\n",
       "0   Male          Human      good    No Hair    yellow    Unknown      A-Bomb   \n",
       "1   Male  Icthyo Sapien      good    No Hair      blue       blue  Abe Sapien   \n",
       "\n",
       "           Publisher  Height  Weight  ...  Weather Control  Omnipresent  \\\n",
       "0      Marvel Comics   203.0   441.0  ...            False        False   \n",
       "1  Dark Horse Comics   191.0    65.0  ...            False        False   \n",
       "\n",
       "   Omniscient  Hair Manipulation  Nova Force  Odin Force  Phoenix Force  \\\n",
       "0       False              False       False       False          False   \n",
       "1       False              False       False       False          False   \n",
       "\n",
       "   Intuitive aptitude  Melting  Changing Armor  \n",
       "0               False    False           False  \n",
       "1               False    False           False  \n",
       "\n",
       "[2 rows x 177 columns]"
      ]
     },
     "execution_count": 35,
     "metadata": {},
     "output_type": "execute_result"
    }
   ],
   "source": [
    "# renaming the column 'hero_names' to 'Hero' for consistency\n",
    "super_powers_df.rename(columns={'hero_names':'Hero'}, inplace=True)\n",
    "\n",
    "## Merging with the same column name\n",
    "super_hero_df = pd.merge(super_info_df,super_powers_df, on='Hero')\n",
    "super_hero_df.head(2)"
   ]
  },
  {
   "cell_type": "code",
   "execution_count": 36,
   "id": "226ff3eb",
   "metadata": {},
   "outputs": [
    {
     "name": "stdout",
     "output_type": "stream",
     "text": [
      "<class 'pandas.core.frame.DataFrame'>\n",
      "Int64Index: 463 entries, 0 to 462\n",
      "Columns: 177 entries, Gender to Changing Armor\n",
      "dtypes: bool(167), float64(2), object(8)\n",
      "memory usage: 115.3+ KB\n"
     ]
    }
   ],
   "source": [
    "super_hero_df.info()"
   ]
  },
  {
   "cell_type": "markdown",
   "id": "fdfaa9f4",
   "metadata": {},
   "source": [
    "# Solutions to Questions"
   ]
  },
  {
   "cell_type": "markdown",
   "id": "51a11e9c",
   "metadata": {},
   "source": [
    "## Question 1"
   ]
  },
  {
   "cell_type": "code",
   "execution_count": 37,
   "id": "8a0c4d70",
   "metadata": {},
   "outputs": [
    {
     "name": "stdout",
     "output_type": "stream",
     "text": [
      "The mean weight for those with Super Speed is 129.4 kg.\n",
      "The mean weight for those without Super Speed is 101.8 kg.\n"
     ]
    }
   ],
   "source": [
    "# filtering the super_hero_df for Super Speed == True and false\n",
    "super_speed_true = super_hero_df[super_hero_df['Super Speed']== True]\n",
    "super_speed_false = super_hero_df[super_hero_df['Super Speed']== False]\n",
    "print(f\"The mean weight for those with Super Speed is {super_speed_true['Weight'].mean().round(1)} kg.\")\n",
    "print(f\"The mean weight for those without Super Speed is {super_speed_false['Weight'].mean().round(1)} kg.\")"
   ]
  },
  {
   "cell_type": "markdown",
   "id": "9901a5ac",
   "metadata": {},
   "source": [
    "## Question 2"
   ]
  },
  {
   "cell_type": "code",
   "execution_count": 44,
   "id": "4c987249",
   "metadata": {},
   "outputs": [
    {
     "name": "stdout",
     "output_type": "stream",
     "text": [
      "The mean height (in cm) of heroes grouped by publisher are:\n",
      "\n",
      "Publisher\n",
      "DC Comics            181.9\n",
      "Dark Horse Comics    176.9\n",
      "George Lucas         159.6\n",
      "Image Comics         211.0\n",
      "Marvel Comics        191.5\n",
      "Shueisha             171.5\n",
      "Star Trek            181.5\n",
      "Team Epic TV         180.8\n",
      "Unknown              178.0\n",
      "Name: Height, dtype: float64\n"
     ]
    }
   ],
   "source": [
    "print(f\"The mean height (in cm) of heroes grouped by publisher are:\\n\\n{super_hero_df.groupby('Publisher')['Height'].mean().round(1)}\")"
   ]
  }
 ],
 "metadata": {
  "kernelspec": {
   "display_name": "Python (dojo-env)",
   "language": "python",
   "name": "dojo-env"
  },
  "language_info": {
   "codemirror_mode": {
    "name": "ipython",
    "version": 3
   },
   "file_extension": ".py",
   "mimetype": "text/x-python",
   "name": "python",
   "nbconvert_exporter": "python",
   "pygments_lexer": "ipython3",
   "version": "3.8.13"
  },
  "toc": {
   "base_numbering": 1,
   "nav_menu": {},
   "number_sections": false,
   "sideBar": true,
   "skip_h1_title": false,
   "title_cell": "Table of Contents",
   "title_sidebar": "Contents",
   "toc_cell": false,
   "toc_position": {
    "height": "calc(100% - 180px)",
    "left": "10px",
    "top": "150px",
    "width": "165px"
   },
   "toc_section_display": true,
   "toc_window_display": true
  }
 },
 "nbformat": 4,
 "nbformat_minor": 5
}
